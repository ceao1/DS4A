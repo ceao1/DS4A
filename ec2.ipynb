{
 "cells": [
  {
   "cell_type": "markdown",
   "metadata": {},
   "source": [
    "# The adverse health effects of air pollution - are we making any progress?\n",
    "\n",
    "<img src=files/air.jpg width=\"900\">\n",
    "\n",
    "**Credit:**  [Flickr/E4C](https://www.flickr.com/people/44221799@N08/) "
   ]
  },
  {
   "cell_type": "code",
   "execution_count": 1,
   "metadata": {},
   "outputs": [],
   "source": [
    "# Load relevant packages\n",
    "import pandas as pd\n",
    "import numpy as np\n",
    "import matplotlib.pyplot as plt\n",
    "import seaborn as sns\n",
    "import statsmodels.formula.api as sm\n",
    "import warnings\n",
    "\n",
    "warnings.filterwarnings(\"ignore\")  # Suppress all warnings"
   ]
  },
  {
   "cell_type": "markdown",
   "metadata": {},
   "source": [
    "## Introduction\n",
    "\n",
    "**Business Context.** Air pollution is a very serious issue that the global population is currently dealing with. The abundance of air pollutants is not only contributing to global warming, but it is also causing problematic health issues to the population. There have been numerous efforts to protect and improve air quality across most nations. However, it seems that we are making very little progress. One of the main causes of this is the fact that the majority of air pollutants are derived from the burning of fossil fuels such as *coal*. Big industries and several other economical and political factors have slowed the progress towards the use of renewable energy by promoting the use of fossil fuels. Nevertheless, if we educate the general population and create awareness of this issue, we will be able to overcome this problem in the future.      \n",
    "\n",
    "For this case, you have been hired as a data science consultant for an important environmental organization. In order to promote awareness of environmental and greenhouse gas issues, your client is interested in a study of **plausible impacts of air contamination on the health of the global population**. They have gathered some *raw* data provided by the [World Health Organization](https://www.who.int/), [The Institute for Health Metrics and Evaluation](http://www.healthdata.org/) and the [World Bank Group](https://www.worldbank.org/). Your task is to conduct data analysis, search for potential information, and create visualizations that the client can use for their campaigns and grant applications. \n",
    "\n",
    "**Analytical Context.** You are given a folder, named ```files``` with *raw* data. This data contains quite a large number of variables and it is in a fairly disorganized state. In addition, one of the datasets contains very poor documentation, segmented into several datasets. Your objective will be to:\n",
    "\n",
    "1. Extract and clean the relevant data. You will have to manipulate several datasets to obtain useful information for the case. \n",
    "2. Conduct Exploratory Data Analysis. You will have to create meaningful plots, formulate meaningful hypotheses and study the relationship between various indicators related to air pollution.\n",
    "\n",
    "Additionally, the client has some broad questions they would like to answer:\n",
    "1. Are we making any progress in reducing the amount of emitted pollutants across the globe?\n",
    "2. Which are the critical regions where we should start environmental campaigns?\n",
    "3. Are we making any progress in the prevention of deaths related to air pollution?\n",
    "4. Which demographic characteristics seem to correlate with the number of health-related issues derived from air pollution? "
   ]
  },
  {
   "cell_type": "markdown",
   "metadata": {},
   "source": [
    "## Extracting and cleaning relevant data\n",
    "\n",
    "Let's take a look at the data provided by the client in the ```files``` folder. There, we see another folder  named ```WDI_csv``` with several CSV files corresponding to the World Bank's primary [World Development Indicators](https://datacatalog.worldbank.org/dataset/world-development-indicators). The client stated that this data may contain some useful information relevant to our study, but they have not told us anything aside from that. Thus, we are on our own in finding and extracting the relevant data for our study. This we will do next. \n",
    "\n",
    "Let's take a peek at the file ```WDIData.csv```:"
   ]
  },
  {
   "cell_type": "code",
   "execution_count": 2,
   "metadata": {},
   "outputs": [
    {
     "name": "stdout",
     "output_type": "stream",
     "text": [
      "Index(['Country Name', 'Country Code', 'Indicator Name', 'Indicator Code',\n",
      "       '1960', '1961', '1962', '1963', '1964', '1965', '1966', '1967', '1968',\n",
      "       '1969', '1970', '1971', '1972', '1973', '1974', '1975', '1976', '1977',\n",
      "       '1978', '1979', '1980', '1981', '1982', '1983', '1984', '1985', '1986',\n",
      "       '1987', '1988', '1989', '1990', '1991', '1992', '1993', '1994', '1995',\n",
      "       '1996', '1997', '1998', '1999', '2000', '2001', '2002', '2003', '2004',\n",
      "       '2005', '2006', '2007', '2008', '2009', '2010', '2011', '2012', '2013',\n",
      "       '2014', '2015', '2016', '2017', '2018', '2019', 'Unnamed: 64'],\n",
      "      dtype='object')\n",
      "<class 'pandas.core.frame.DataFrame'>\n",
      "RangeIndex: 377256 entries, 0 to 377255\n",
      "Data columns (total 65 columns):\n",
      " #   Column          Non-Null Count   Dtype  \n",
      "---  ------          --------------   -----  \n",
      " 0   Country Name    377256 non-null  object \n",
      " 1   Country Code    377256 non-null  object \n",
      " 2   Indicator Name  377256 non-null  object \n",
      " 3   Indicator Code  377256 non-null  object \n",
      " 4   1960            37395 non-null   float64\n",
      " 5   1961            41211 non-null   float64\n",
      " 6   1962            43413 non-null   float64\n",
      " 7   1963            43324 non-null   float64\n",
      " 8   1964            43861 non-null   float64\n",
      " 9   1965            46306 non-null   float64\n",
      " 10  1966            46087 non-null   float64\n",
      " 11  1967            47840 non-null   float64\n",
      " 12  1968            47422 non-null   float64\n",
      " 13  1969            49112 non-null   float64\n",
      " 14  1970            69736 non-null   float64\n",
      " 15  1971            76073 non-null   float64\n",
      " 16  1972            78854 non-null   float64\n",
      " 17  1973            78402 non-null   float64\n",
      " 18  1974            79804 non-null   float64\n",
      " 19  1975            83728 non-null   float64\n",
      " 20  1976            85833 non-null   float64\n",
      " 21  1977            89303 non-null   float64\n",
      " 22  1978            88911 non-null   float64\n",
      " 23  1979            89707 non-null   float64\n",
      " 24  1980            94479 non-null   float64\n",
      " 25  1981            96363 non-null   float64\n",
      " 26  1982            97575 non-null   float64\n",
      " 27  1983            97385 non-null   float64\n",
      " 28  1984            98228 non-null   float64\n",
      " 29  1985            99450 non-null   float64\n",
      " 30  1986            100294 non-null  float64\n",
      " 31  1987            101654 non-null  float64\n",
      " 32  1988            101307 non-null  float64\n",
      " 33  1989            103060 non-null  float64\n",
      " 34  1990            126117 non-null  float64\n",
      " 35  1991            131212 non-null  float64\n",
      " 36  1992            135229 non-null  float64\n",
      " 37  1993            136645 non-null  float64\n",
      " 38  1994            138646 non-null  float64\n",
      " 39  1995            146560 non-null  float64\n",
      " 40  1996            146450 non-null  float64\n",
      " 41  1997            147530 non-null  float64\n",
      " 42  1998            149527 non-null  float64\n",
      " 43  1999            154659 non-null  float64\n",
      " 44  2000            179600 non-null  float64\n",
      " 45  2001            169874 non-null  float64\n",
      " 46  2002            174693 non-null  float64\n",
      " 47  2003            175686 non-null  float64\n",
      " 48  2004            180936 non-null  float64\n",
      " 49  2005            194452 non-null  float64\n",
      " 50  2006            192699 non-null  float64\n",
      " 51  2007            196798 non-null  float64\n",
      " 52  2008            195843 non-null  float64\n",
      " 53  2009            196888 non-null  float64\n",
      " 54  2010            211863 non-null  float64\n",
      " 55  2011            203080 non-null  float64\n",
      " 56  2012            204810 non-null  float64\n",
      " 57  2013            200522 non-null  float64\n",
      " 58  2014            206201 non-null  float64\n",
      " 59  2015            201043 non-null  float64\n",
      " 60  2016            197174 non-null  float64\n",
      " 61  2017            176112 non-null  float64\n",
      " 62  2018            126115 non-null  float64\n",
      " 63  2019            21481 non-null   float64\n",
      " 64  Unnamed: 64     0 non-null       float64\n",
      "dtypes: float64(61), object(4)\n",
      "memory usage: 187.1+ MB\n",
      "None\n"
     ]
    },
    {
     "data": {
      "text/html": [
       "<div>\n",
       "<style scoped>\n",
       "    .dataframe tbody tr th:only-of-type {\n",
       "        vertical-align: middle;\n",
       "    }\n",
       "\n",
       "    .dataframe tbody tr th {\n",
       "        vertical-align: top;\n",
       "    }\n",
       "\n",
       "    .dataframe thead th {\n",
       "        text-align: right;\n",
       "    }\n",
       "</style>\n",
       "<table border=\"1\" class=\"dataframe\">\n",
       "  <thead>\n",
       "    <tr style=\"text-align: right;\">\n",
       "      <th></th>\n",
       "      <th>Country Name</th>\n",
       "      <th>Country Code</th>\n",
       "      <th>Indicator Name</th>\n",
       "      <th>Indicator Code</th>\n",
       "      <th>1960</th>\n",
       "      <th>1961</th>\n",
       "      <th>1962</th>\n",
       "      <th>1963</th>\n",
       "      <th>1964</th>\n",
       "      <th>1965</th>\n",
       "      <th>...</th>\n",
       "      <th>2011</th>\n",
       "      <th>2012</th>\n",
       "      <th>2013</th>\n",
       "      <th>2014</th>\n",
       "      <th>2015</th>\n",
       "      <th>2016</th>\n",
       "      <th>2017</th>\n",
       "      <th>2018</th>\n",
       "      <th>2019</th>\n",
       "      <th>Unnamed: 64</th>\n",
       "    </tr>\n",
       "  </thead>\n",
       "  <tbody>\n",
       "    <tr>\n",
       "      <th>0</th>\n",
       "      <td>Arab World</td>\n",
       "      <td>ARB</td>\n",
       "      <td>2005 PPP conversion factor, GDP (LCU per inter...</td>\n",
       "      <td>PA.NUS.PPP.05</td>\n",
       "      <td>NaN</td>\n",
       "      <td>NaN</td>\n",
       "      <td>NaN</td>\n",
       "      <td>NaN</td>\n",
       "      <td>NaN</td>\n",
       "      <td>NaN</td>\n",
       "      <td>...</td>\n",
       "      <td>NaN</td>\n",
       "      <td>NaN</td>\n",
       "      <td>NaN</td>\n",
       "      <td>NaN</td>\n",
       "      <td>NaN</td>\n",
       "      <td>NaN</td>\n",
       "      <td>NaN</td>\n",
       "      <td>NaN</td>\n",
       "      <td>NaN</td>\n",
       "      <td>NaN</td>\n",
       "    </tr>\n",
       "    <tr>\n",
       "      <th>1</th>\n",
       "      <td>Arab World</td>\n",
       "      <td>ARB</td>\n",
       "      <td>2005 PPP conversion factor, private consumptio...</td>\n",
       "      <td>PA.NUS.PRVT.PP.05</td>\n",
       "      <td>NaN</td>\n",
       "      <td>NaN</td>\n",
       "      <td>NaN</td>\n",
       "      <td>NaN</td>\n",
       "      <td>NaN</td>\n",
       "      <td>NaN</td>\n",
       "      <td>...</td>\n",
       "      <td>NaN</td>\n",
       "      <td>NaN</td>\n",
       "      <td>NaN</td>\n",
       "      <td>NaN</td>\n",
       "      <td>NaN</td>\n",
       "      <td>NaN</td>\n",
       "      <td>NaN</td>\n",
       "      <td>NaN</td>\n",
       "      <td>NaN</td>\n",
       "      <td>NaN</td>\n",
       "    </tr>\n",
       "    <tr>\n",
       "      <th>2</th>\n",
       "      <td>Arab World</td>\n",
       "      <td>ARB</td>\n",
       "      <td>Access to clean fuels and technologies for coo...</td>\n",
       "      <td>EG.CFT.ACCS.ZS</td>\n",
       "      <td>NaN</td>\n",
       "      <td>NaN</td>\n",
       "      <td>NaN</td>\n",
       "      <td>NaN</td>\n",
       "      <td>NaN</td>\n",
       "      <td>NaN</td>\n",
       "      <td>...</td>\n",
       "      <td>82.783289</td>\n",
       "      <td>83.120303</td>\n",
       "      <td>83.533457</td>\n",
       "      <td>83.897596</td>\n",
       "      <td>84.171599</td>\n",
       "      <td>84.510171</td>\n",
       "      <td>NaN</td>\n",
       "      <td>NaN</td>\n",
       "      <td>NaN</td>\n",
       "      <td>NaN</td>\n",
       "    </tr>\n",
       "    <tr>\n",
       "      <th>3</th>\n",
       "      <td>Arab World</td>\n",
       "      <td>ARB</td>\n",
       "      <td>Access to electricity (% of population)</td>\n",
       "      <td>EG.ELC.ACCS.ZS</td>\n",
       "      <td>NaN</td>\n",
       "      <td>NaN</td>\n",
       "      <td>NaN</td>\n",
       "      <td>NaN</td>\n",
       "      <td>NaN</td>\n",
       "      <td>NaN</td>\n",
       "      <td>...</td>\n",
       "      <td>86.428272</td>\n",
       "      <td>87.070576</td>\n",
       "      <td>88.176836</td>\n",
       "      <td>87.342739</td>\n",
       "      <td>89.130121</td>\n",
       "      <td>89.678685</td>\n",
       "      <td>90.273687</td>\n",
       "      <td>NaN</td>\n",
       "      <td>NaN</td>\n",
       "      <td>NaN</td>\n",
       "    </tr>\n",
       "    <tr>\n",
       "      <th>4</th>\n",
       "      <td>Arab World</td>\n",
       "      <td>ARB</td>\n",
       "      <td>Access to electricity, rural (% of rural popul...</td>\n",
       "      <td>EG.ELC.ACCS.RU.ZS</td>\n",
       "      <td>NaN</td>\n",
       "      <td>NaN</td>\n",
       "      <td>NaN</td>\n",
       "      <td>NaN</td>\n",
       "      <td>NaN</td>\n",
       "      <td>NaN</td>\n",
       "      <td>...</td>\n",
       "      <td>73.942103</td>\n",
       "      <td>75.244104</td>\n",
       "      <td>77.162305</td>\n",
       "      <td>75.538976</td>\n",
       "      <td>78.741152</td>\n",
       "      <td>79.665635</td>\n",
       "      <td>80.749293</td>\n",
       "      <td>NaN</td>\n",
       "      <td>NaN</td>\n",
       "      <td>NaN</td>\n",
       "    </tr>\n",
       "  </tbody>\n",
       "</table>\n",
       "<p>5 rows × 65 columns</p>\n",
       "</div>"
      ],
      "text/plain": [
       "  Country Name Country Code  \\\n",
       "0   Arab World          ARB   \n",
       "1   Arab World          ARB   \n",
       "2   Arab World          ARB   \n",
       "3   Arab World          ARB   \n",
       "4   Arab World          ARB   \n",
       "\n",
       "                                      Indicator Name     Indicator Code  1960  \\\n",
       "0  2005 PPP conversion factor, GDP (LCU per inter...      PA.NUS.PPP.05   NaN   \n",
       "1  2005 PPP conversion factor, private consumptio...  PA.NUS.PRVT.PP.05   NaN   \n",
       "2  Access to clean fuels and technologies for coo...     EG.CFT.ACCS.ZS   NaN   \n",
       "3            Access to electricity (% of population)     EG.ELC.ACCS.ZS   NaN   \n",
       "4  Access to electricity, rural (% of rural popul...  EG.ELC.ACCS.RU.ZS   NaN   \n",
       "\n",
       "   1961  1962  1963  1964  1965  ...       2011       2012       2013  \\\n",
       "0   NaN   NaN   NaN   NaN   NaN  ...        NaN        NaN        NaN   \n",
       "1   NaN   NaN   NaN   NaN   NaN  ...        NaN        NaN        NaN   \n",
       "2   NaN   NaN   NaN   NaN   NaN  ...  82.783289  83.120303  83.533457   \n",
       "3   NaN   NaN   NaN   NaN   NaN  ...  86.428272  87.070576  88.176836   \n",
       "4   NaN   NaN   NaN   NaN   NaN  ...  73.942103  75.244104  77.162305   \n",
       "\n",
       "        2014       2015       2016       2017  2018  2019  Unnamed: 64  \n",
       "0        NaN        NaN        NaN        NaN   NaN   NaN          NaN  \n",
       "1        NaN        NaN        NaN        NaN   NaN   NaN          NaN  \n",
       "2  83.897596  84.171599  84.510171        NaN   NaN   NaN          NaN  \n",
       "3  87.342739  89.130121  89.678685  90.273687   NaN   NaN          NaN  \n",
       "4  75.538976  78.741152  79.665635  80.749293   NaN   NaN          NaN  \n",
       "\n",
       "[5 rows x 65 columns]"
      ]
     },
     "execution_count": 2,
     "metadata": {},
     "output_type": "execute_result"
    }
   ],
   "source": [
    "WDI_data = pd.read_csv(\"./files/WDI_csv/WDIData.csv\")\n",
    "print(WDI_data.columns)\n",
    "print(WDI_data.info())\n",
    "WDI_data.head()"
   ]
  },
  {
   "cell_type": "markdown",
   "metadata": {},
   "source": [
    "The data seems to have a large number of indicators dating from 1960. There are also columns containing country names and codes. Notice that the first couple of rows say ```Arab World```, which may indicate that the data contains broad regional data as well. We notice also that there are at least 100,000 entries with ```NaN``` values for each year column.\n",
    "\n",
    "Since we are interested in environmental indicators, we must get rid of any rows not relevant to our study. However, the number of indicators seems to be quite large and a manual inspection seems impossible. Let's load the file ```WDISeries.csv``` which seems to contain more information about the indicators:"
   ]
  },
  {
   "cell_type": "code",
   "execution_count": 3,
   "metadata": {},
   "outputs": [
    {
     "name": "stdout",
     "output_type": "stream",
     "text": [
      "Index(['Series Code', 'Topic', 'Indicator Name', 'Short definition',\n",
      "       'Long definition', 'Unit of measure', 'Periodicity', 'Base Period',\n",
      "       'Other notes', 'Aggregation method', 'Limitations and exceptions',\n",
      "       'Notes from original source', 'General comments', 'Source',\n",
      "       'Statistical concept and methodology', 'Development relevance',\n",
      "       'Related source links', 'Other web links', 'Related indicators',\n",
      "       'License Type', 'Unnamed: 20'],\n",
      "      dtype='object')\n"
     ]
    },
    {
     "data": {
      "text/html": [
       "<div>\n",
       "<style scoped>\n",
       "    .dataframe tbody tr th:only-of-type {\n",
       "        vertical-align: middle;\n",
       "    }\n",
       "\n",
       "    .dataframe tbody tr th {\n",
       "        vertical-align: top;\n",
       "    }\n",
       "\n",
       "    .dataframe thead th {\n",
       "        text-align: right;\n",
       "    }\n",
       "</style>\n",
       "<table border=\"1\" class=\"dataframe\">\n",
       "  <thead>\n",
       "    <tr style=\"text-align: right;\">\n",
       "      <th></th>\n",
       "      <th>Series Code</th>\n",
       "      <th>Topic</th>\n",
       "      <th>Indicator Name</th>\n",
       "      <th>Short definition</th>\n",
       "      <th>Long definition</th>\n",
       "      <th>Unit of measure</th>\n",
       "      <th>Periodicity</th>\n",
       "      <th>Base Period</th>\n",
       "      <th>Other notes</th>\n",
       "      <th>Aggregation method</th>\n",
       "      <th>...</th>\n",
       "      <th>Notes from original source</th>\n",
       "      <th>General comments</th>\n",
       "      <th>Source</th>\n",
       "      <th>Statistical concept and methodology</th>\n",
       "      <th>Development relevance</th>\n",
       "      <th>Related source links</th>\n",
       "      <th>Other web links</th>\n",
       "      <th>Related indicators</th>\n",
       "      <th>License Type</th>\n",
       "      <th>Unnamed: 20</th>\n",
       "    </tr>\n",
       "  </thead>\n",
       "  <tbody>\n",
       "    <tr>\n",
       "      <th>0</th>\n",
       "      <td>AG.AGR.TRAC.NO</td>\n",
       "      <td>Environment: Agricultural production</td>\n",
       "      <td>Agricultural machinery, tractors</td>\n",
       "      <td>NaN</td>\n",
       "      <td>Agricultural machinery refers to the number of...</td>\n",
       "      <td>NaN</td>\n",
       "      <td>Annual</td>\n",
       "      <td>NaN</td>\n",
       "      <td>NaN</td>\n",
       "      <td>Sum</td>\n",
       "      <td>...</td>\n",
       "      <td>NaN</td>\n",
       "      <td>NaN</td>\n",
       "      <td>Food and Agriculture Organization, electronic ...</td>\n",
       "      <td>A tractor provides the power and traction to m...</td>\n",
       "      <td>Agricultural land covers more than one-third o...</td>\n",
       "      <td>NaN</td>\n",
       "      <td>NaN</td>\n",
       "      <td>NaN</td>\n",
       "      <td>CC BY-4.0</td>\n",
       "      <td>NaN</td>\n",
       "    </tr>\n",
       "    <tr>\n",
       "      <th>1</th>\n",
       "      <td>AG.CON.FERT.PT.ZS</td>\n",
       "      <td>Environment: Agricultural production</td>\n",
       "      <td>Fertilizer consumption (% of fertilizer produc...</td>\n",
       "      <td>NaN</td>\n",
       "      <td>Fertilizer consumption measures the quantity o...</td>\n",
       "      <td>NaN</td>\n",
       "      <td>Annual</td>\n",
       "      <td>NaN</td>\n",
       "      <td>NaN</td>\n",
       "      <td>Weighted average</td>\n",
       "      <td>...</td>\n",
       "      <td>NaN</td>\n",
       "      <td>NaN</td>\n",
       "      <td>Food and Agriculture Organization, electronic ...</td>\n",
       "      <td>Fertilizer consumption measures the quantity o...</td>\n",
       "      <td>Factors such as the green revolution, has led ...</td>\n",
       "      <td>NaN</td>\n",
       "      <td>NaN</td>\n",
       "      <td>NaN</td>\n",
       "      <td>CC BY-4.0</td>\n",
       "      <td>NaN</td>\n",
       "    </tr>\n",
       "    <tr>\n",
       "      <th>2</th>\n",
       "      <td>AG.CON.FERT.ZS</td>\n",
       "      <td>Environment: Agricultural production</td>\n",
       "      <td>Fertilizer consumption (kilograms per hectare ...</td>\n",
       "      <td>NaN</td>\n",
       "      <td>Fertilizer consumption measures the quantity o...</td>\n",
       "      <td>NaN</td>\n",
       "      <td>Annual</td>\n",
       "      <td>NaN</td>\n",
       "      <td>NaN</td>\n",
       "      <td>Weighted average</td>\n",
       "      <td>...</td>\n",
       "      <td>NaN</td>\n",
       "      <td>NaN</td>\n",
       "      <td>Food and Agriculture Organization, electronic ...</td>\n",
       "      <td>Fertilizer consumption measures the quantity o...</td>\n",
       "      <td>Factors such as the green revolution, has led ...</td>\n",
       "      <td>NaN</td>\n",
       "      <td>NaN</td>\n",
       "      <td>NaN</td>\n",
       "      <td>CC BY-4.0</td>\n",
       "      <td>NaN</td>\n",
       "    </tr>\n",
       "    <tr>\n",
       "      <th>3</th>\n",
       "      <td>AG.LND.AGRI.K2</td>\n",
       "      <td>Environment: Land use</td>\n",
       "      <td>Agricultural land (sq. km)</td>\n",
       "      <td>NaN</td>\n",
       "      <td>Agricultural land refers to the share of land ...</td>\n",
       "      <td>NaN</td>\n",
       "      <td>Annual</td>\n",
       "      <td>NaN</td>\n",
       "      <td>NaN</td>\n",
       "      <td>Sum</td>\n",
       "      <td>...</td>\n",
       "      <td>NaN</td>\n",
       "      <td>NaN</td>\n",
       "      <td>Food and Agriculture Organization, electronic ...</td>\n",
       "      <td>Agricultural land constitutes only a part of a...</td>\n",
       "      <td>Agricultural land covers more than one-third o...</td>\n",
       "      <td>NaN</td>\n",
       "      <td>NaN</td>\n",
       "      <td>NaN</td>\n",
       "      <td>CC BY-4.0</td>\n",
       "      <td>NaN</td>\n",
       "    </tr>\n",
       "    <tr>\n",
       "      <th>4</th>\n",
       "      <td>AG.LND.AGRI.ZS</td>\n",
       "      <td>Environment: Land use</td>\n",
       "      <td>Agricultural land (% of land area)</td>\n",
       "      <td>NaN</td>\n",
       "      <td>Agricultural land refers to the share of land ...</td>\n",
       "      <td>NaN</td>\n",
       "      <td>Annual</td>\n",
       "      <td>NaN</td>\n",
       "      <td>NaN</td>\n",
       "      <td>Weighted average</td>\n",
       "      <td>...</td>\n",
       "      <td>NaN</td>\n",
       "      <td>NaN</td>\n",
       "      <td>Food and Agriculture Organization, electronic ...</td>\n",
       "      <td>Agriculture is still a major sector in many ec...</td>\n",
       "      <td>Agricultural land covers more than one-third o...</td>\n",
       "      <td>NaN</td>\n",
       "      <td>NaN</td>\n",
       "      <td>NaN</td>\n",
       "      <td>CC BY-4.0</td>\n",
       "      <td>NaN</td>\n",
       "    </tr>\n",
       "  </tbody>\n",
       "</table>\n",
       "<p>5 rows × 21 columns</p>\n",
       "</div>"
      ],
      "text/plain": [
       "         Series Code                                 Topic  \\\n",
       "0     AG.AGR.TRAC.NO  Environment: Agricultural production   \n",
       "1  AG.CON.FERT.PT.ZS  Environment: Agricultural production   \n",
       "2     AG.CON.FERT.ZS  Environment: Agricultural production   \n",
       "3     AG.LND.AGRI.K2                 Environment: Land use   \n",
       "4     AG.LND.AGRI.ZS                 Environment: Land use   \n",
       "\n",
       "                                      Indicator Name Short definition  \\\n",
       "0                   Agricultural machinery, tractors              NaN   \n",
       "1  Fertilizer consumption (% of fertilizer produc...              NaN   \n",
       "2  Fertilizer consumption (kilograms per hectare ...              NaN   \n",
       "3                         Agricultural land (sq. km)              NaN   \n",
       "4                 Agricultural land (% of land area)              NaN   \n",
       "\n",
       "                                     Long definition Unit of measure  \\\n",
       "0  Agricultural machinery refers to the number of...             NaN   \n",
       "1  Fertilizer consumption measures the quantity o...             NaN   \n",
       "2  Fertilizer consumption measures the quantity o...             NaN   \n",
       "3  Agricultural land refers to the share of land ...             NaN   \n",
       "4  Agricultural land refers to the share of land ...             NaN   \n",
       "\n",
       "  Periodicity Base Period Other notes Aggregation method  ...  \\\n",
       "0      Annual         NaN         NaN                Sum  ...   \n",
       "1      Annual         NaN         NaN   Weighted average  ...   \n",
       "2      Annual         NaN         NaN   Weighted average  ...   \n",
       "3      Annual         NaN         NaN                Sum  ...   \n",
       "4      Annual         NaN         NaN   Weighted average  ...   \n",
       "\n",
       "  Notes from original source General comments  \\\n",
       "0                        NaN              NaN   \n",
       "1                        NaN              NaN   \n",
       "2                        NaN              NaN   \n",
       "3                        NaN              NaN   \n",
       "4                        NaN              NaN   \n",
       "\n",
       "                                              Source  \\\n",
       "0  Food and Agriculture Organization, electronic ...   \n",
       "1  Food and Agriculture Organization, electronic ...   \n",
       "2  Food and Agriculture Organization, electronic ...   \n",
       "3  Food and Agriculture Organization, electronic ...   \n",
       "4  Food and Agriculture Organization, electronic ...   \n",
       "\n",
       "                 Statistical concept and methodology  \\\n",
       "0  A tractor provides the power and traction to m...   \n",
       "1  Fertilizer consumption measures the quantity o...   \n",
       "2  Fertilizer consumption measures the quantity o...   \n",
       "3  Agricultural land constitutes only a part of a...   \n",
       "4  Agriculture is still a major sector in many ec...   \n",
       "\n",
       "                               Development relevance Related source links  \\\n",
       "0  Agricultural land covers more than one-third o...                  NaN   \n",
       "1  Factors such as the green revolution, has led ...                  NaN   \n",
       "2  Factors such as the green revolution, has led ...                  NaN   \n",
       "3  Agricultural land covers more than one-third o...                  NaN   \n",
       "4  Agricultural land covers more than one-third o...                  NaN   \n",
       "\n",
       "  Other web links  Related indicators License Type Unnamed: 20  \n",
       "0             NaN                 NaN    CC BY-4.0         NaN  \n",
       "1             NaN                 NaN    CC BY-4.0         NaN  \n",
       "2             NaN                 NaN    CC BY-4.0         NaN  \n",
       "3             NaN                 NaN    CC BY-4.0         NaN  \n",
       "4             NaN                 NaN    CC BY-4.0         NaN  \n",
       "\n",
       "[5 rows x 21 columns]"
      ]
     },
     "execution_count": 3,
     "metadata": {},
     "output_type": "execute_result"
    }
   ],
   "source": [
    "WDI_ids = pd.read_csv(\"./files/WDI_csv/WDISeries.csv\")\n",
    "print(WDI_ids.columns)\n",
    "WDI_ids.head()"
   ]
  },
  {
   "cell_type": "markdown",
   "metadata": {},
   "source": [
    "Bingo! The ```WDI_ids``` DataFrame contains a column named ```Topic```. Moreover, it seems that *Environment* is listed as a key topic in the column."
   ]
  },
  {
   "cell_type": "markdown",
   "metadata": {},
   "source": [
    "### Exercise 1:\n",
    "\n",
    "Extract all the rows that have the topic key *Environment* in ```WDI_ids```. Add to the resulting DataFrame a new column named ```Subtopic``` which contains the corresponding subtopic of the indicator. For example, the subtopic of ```Environment: Agricultural production``` is ```Agricultural production```. Which subtopics do you think are of interest to us?\n",
    "\n",
    "**Hint:** Remember that you can apply string methods to Series using the ```str()``` method of ```pandas```. "
   ]
  },
  {
   "cell_type": "markdown",
   "metadata": {},
   "source": [
    "**Answer.**"
   ]
  },
  {
   "cell_type": "code",
   "execution_count": 4,
   "metadata": {
    "scrolled": false
   },
   "outputs": [
    {
     "data": {
      "text/plain": [
       "array([' Agricultural production', ' Land use',\n",
       "       ' Energy production & use', ' Emissions',\n",
       "       ' Biodiversity & protected areas', ' Density & urbanization',\n",
       "       ' Freshwater', ' Natural resources contribution to GDP'],\n",
       "      dtype=object)"
      ]
     },
     "execution_count": 4,
     "metadata": {},
     "output_type": "execute_result"
    }
   ],
   "source": [
    "WDI_ids['Topic key']=WDI_ids['Topic'].str.split(':',1,expand=True)[0]\n",
    "WDI_ids['Subtopic']=WDI_ids['Topic'].str.split(':',1,expand=True)[1]\n",
    "df=WDI_ids[WDI_ids['Topic key']=='Environment'].copy()\n",
    "df['Subtopic'].unique()"
   ]
  },
  {
   "cell_type": "markdown",
   "metadata": {},
   "source": [
    "We may find several of these subtopics relevant to our study, but probably the most interesting for us now is the ```Emissions``` subtopic."
   ]
  },
  {
   "cell_type": "markdown",
   "metadata": {},
   "source": [
    "### Exercise 2:\n",
    "\n",
    "Use the results of Exercise 1 to create a new DataFrame with the history of all emissions indicators for countries and major regions. Call this new DataFrame ```Emissions_df```. How many emissions indicators are in the study?"
   ]
  },
  {
   "cell_type": "markdown",
   "metadata": {},
   "source": [
    "**Answer.**"
   ]
  },
  {
   "cell_type": "code",
   "execution_count": 5,
   "metadata": {},
   "outputs": [
    {
     "name": "stdout",
     "output_type": "stream",
     "text": [
      "There are  42  emissions indicators in the study: \n"
     ]
    },
    {
     "data": {
      "text/plain": [
       "array(['CO2 intensity (kg per kg of oil equivalent energy use)',\n",
       "       'CO2 emissions from gaseous fuel consumption (kt)',\n",
       "       'CO2 emissions from gaseous fuel consumption (% of total)',\n",
       "       'CO2 emissions (kg per 2010 US$ of GDP)', 'CO2 emissions (kt)',\n",
       "       'CO2 emissions from liquid fuel consumption (kt)',\n",
       "       'CO2 emissions from liquid fuel consumption (% of total)',\n",
       "       'CO2 emissions (metric tons per capita)',\n",
       "       'CO2 emissions (kg per PPP $ of GDP)',\n",
       "       'CO2 emissions (kg per 2011 PPP $ of GDP)',\n",
       "       'CO2 emissions from solid fuel consumption (kt)',\n",
       "       'CO2 emissions from solid fuel consumption (% of total)',\n",
       "       'Other greenhouse gas emissions, HFC, PFC and SF6 (thousand metric tons of CO2 equivalent)',\n",
       "       'Other greenhouse gas emissions (% change from 1990)',\n",
       "       'Total greenhouse gas emissions (kt of CO2 equivalent)',\n",
       "       'Total greenhouse gas emissions (% change from 1990)',\n",
       "       'HFC gas emissions (thousand metric tons of CO2 equivalent)',\n",
       "       'Agricultural methane emissions (thousand metric tons of CO2 equivalent)',\n",
       "       'Agricultural methane emissions (% of total)',\n",
       "       'Methane emissions in energy sector (thousand metric tons of CO2 equivalent)',\n",
       "       'Energy related methane emissions (% of total)',\n",
       "       'Methane emissions (kt of CO2 equivalent)',\n",
       "       'Methane emissions (% change from 1990)',\n",
       "       'Agricultural nitrous oxide emissions (thousand metric tons of CO2 equivalent)',\n",
       "       'Agricultural nitrous oxide emissions (% of total)',\n",
       "       'Nitrous oxide emissions in energy sector (thousand metric tons of CO2 equivalent)',\n",
       "       'Nitrous oxide emissions in energy sector (% of total)',\n",
       "       'Nitrous oxide emissions (thousand metric tons of CO2 equivalent)',\n",
       "       'Nitrous oxide emissions (% change from 1990)',\n",
       "       'PFC gas emissions (thousand metric tons of CO2 equivalent)',\n",
       "       'PM2.5 air pollution, mean annual exposure (micrograms per cubic meter)',\n",
       "       'PM2.5 pollution, population exposed to levels exceeding WHO Interim Target-1 value (% of total)',\n",
       "       'PM2.5 pollution, population exposed to levels exceeding WHO Interim Target-2 value (% of total)',\n",
       "       'PM2.5 pollution, population exposed to levels exceeding WHO Interim Target-3 value (% of total)',\n",
       "       'PM2.5 air pollution, population exposed to levels exceeding WHO guideline value (% of total)',\n",
       "       'SF6 gas emissions (thousand metric tons of CO2 equivalent)',\n",
       "       'GHG net emissions/removals by LUCF (Mt of CO2 equivalent)',\n",
       "       'CO2 emissions from residential buildings and commercial and public services (% of total fuel combustion)',\n",
       "       'CO2 emissions from electricity and heat production, total (% of total fuel combustion)',\n",
       "       'CO2 emissions from manufacturing industries and construction (% of total fuel combustion)',\n",
       "       'CO2 emissions from other sectors, excluding residential buildings and commercial and public services (% of total fuel combustion)',\n",
       "       'CO2 emissions from transport (% of total fuel combustion)'],\n",
       "      dtype=object)"
      ]
     },
     "execution_count": 5,
     "metadata": {},
     "output_type": "execute_result"
    }
   ],
   "source": [
    "Emissions_df=df[df['Subtopic']==' Emissions'].merge(WDI_data,left_on='Series Code',right_on='Indicator Code',how='left')\n",
    "print('There are ',len(Emissions_df['Indicator Name_x'].unique()), ' emissions indicators in the study: ')\n",
    "list(Emissions_df['Indicator Name_x'].unique())\n",
    "\n",
    "Emissions_df.drop(columns=['Indicator Name_y'],inplace=True)\n",
    "Emissions_df.rename(columns={'Indicator Name_x':'Indicator Name'},inplace=True)\n",
    "\n",
    "Emissions_df['Indicator Name'].unique()"
   ]
  },
  {
   "cell_type": "markdown",
   "metadata": {},
   "source": [
    "-------"
   ]
  },
  {
   "cell_type": "markdown",
   "metadata": {},
   "source": [
    "### Exercise 3:\n",
    "\n",
    "The DataFrame ```Emissions_df``` has one column per year of observation. Data in this form is usually referred to as data in *wide format*, as the number of columns is high. However, it might be easier to query and filter the data if we had a single column containing the year in which each indicator was calculated. This way, *each observation will be represented by a single row*. Use the ```pandas``` function [```melt()```](https://pandas.pydata.org/docs/reference/api/pandas.melt.html) to reshape the ```Emissions_df``` data into *long format*. The resulting DataFrame should contain a pair of new columns named ```Year``` and ```Indicator Value```:"
   ]
  },
  {
   "cell_type": "markdown",
   "metadata": {},
   "source": [
    "**Answer.**"
   ]
  },
  {
   "cell_type": "code",
   "execution_count": 6,
   "metadata": {
    "scrolled": true
   },
   "outputs": [
    {
     "data": {
      "text/html": [
       "<div>\n",
       "<style scoped>\n",
       "    .dataframe tbody tr th:only-of-type {\n",
       "        vertical-align: middle;\n",
       "    }\n",
       "\n",
       "    .dataframe tbody tr th {\n",
       "        vertical-align: top;\n",
       "    }\n",
       "\n",
       "    .dataframe thead th {\n",
       "        text-align: right;\n",
       "    }\n",
       "</style>\n",
       "<table border=\"1\" class=\"dataframe\">\n",
       "  <thead>\n",
       "    <tr style=\"text-align: right;\">\n",
       "      <th></th>\n",
       "      <th>Series Code</th>\n",
       "      <th>Topic</th>\n",
       "      <th>Indicator Name</th>\n",
       "      <th>Short definition</th>\n",
       "      <th>Long definition</th>\n",
       "      <th>Unit of measure</th>\n",
       "      <th>Periodicity</th>\n",
       "      <th>Base Period</th>\n",
       "      <th>Other notes</th>\n",
       "      <th>Aggregation method</th>\n",
       "      <th>...</th>\n",
       "      <th>Related indicators</th>\n",
       "      <th>License Type</th>\n",
       "      <th>Unnamed: 20</th>\n",
       "      <th>Topic key</th>\n",
       "      <th>Subtopic</th>\n",
       "      <th>Country Name</th>\n",
       "      <th>Country Code</th>\n",
       "      <th>Indicator Code</th>\n",
       "      <th>Year</th>\n",
       "      <th>Indicator Value</th>\n",
       "    </tr>\n",
       "  </thead>\n",
       "  <tbody>\n",
       "    <tr>\n",
       "      <th>0</th>\n",
       "      <td>EN.ATM.CO2E.EG.ZS</td>\n",
       "      <td>Environment: Emissions</td>\n",
       "      <td>CO2 intensity (kg per kg of oil equivalent ene...</td>\n",
       "      <td>NaN</td>\n",
       "      <td>Carbon dioxide emissions from solid fuel consu...</td>\n",
       "      <td>NaN</td>\n",
       "      <td>Annual</td>\n",
       "      <td>NaN</td>\n",
       "      <td>NaN</td>\n",
       "      <td>Weighted average</td>\n",
       "      <td>...</td>\n",
       "      <td>NaN</td>\n",
       "      <td>CC BY-4.0</td>\n",
       "      <td>NaN</td>\n",
       "      <td>Environment</td>\n",
       "      <td>Emissions</td>\n",
       "      <td>Arab World</td>\n",
       "      <td>ARB</td>\n",
       "      <td>EN.ATM.CO2E.EG.ZS</td>\n",
       "      <td>1960</td>\n",
       "      <td>NaN</td>\n",
       "    </tr>\n",
       "    <tr>\n",
       "      <th>1</th>\n",
       "      <td>EN.ATM.CO2E.EG.ZS</td>\n",
       "      <td>Environment: Emissions</td>\n",
       "      <td>CO2 intensity (kg per kg of oil equivalent ene...</td>\n",
       "      <td>NaN</td>\n",
       "      <td>Carbon dioxide emissions from solid fuel consu...</td>\n",
       "      <td>NaN</td>\n",
       "      <td>Annual</td>\n",
       "      <td>NaN</td>\n",
       "      <td>NaN</td>\n",
       "      <td>Weighted average</td>\n",
       "      <td>...</td>\n",
       "      <td>NaN</td>\n",
       "      <td>CC BY-4.0</td>\n",
       "      <td>NaN</td>\n",
       "      <td>Environment</td>\n",
       "      <td>Emissions</td>\n",
       "      <td>Caribbean small states</td>\n",
       "      <td>CSS</td>\n",
       "      <td>EN.ATM.CO2E.EG.ZS</td>\n",
       "      <td>1960</td>\n",
       "      <td>NaN</td>\n",
       "    </tr>\n",
       "    <tr>\n",
       "      <th>2</th>\n",
       "      <td>EN.ATM.CO2E.EG.ZS</td>\n",
       "      <td>Environment: Emissions</td>\n",
       "      <td>CO2 intensity (kg per kg of oil equivalent ene...</td>\n",
       "      <td>NaN</td>\n",
       "      <td>Carbon dioxide emissions from solid fuel consu...</td>\n",
       "      <td>NaN</td>\n",
       "      <td>Annual</td>\n",
       "      <td>NaN</td>\n",
       "      <td>NaN</td>\n",
       "      <td>Weighted average</td>\n",
       "      <td>...</td>\n",
       "      <td>NaN</td>\n",
       "      <td>CC BY-4.0</td>\n",
       "      <td>NaN</td>\n",
       "      <td>Environment</td>\n",
       "      <td>Emissions</td>\n",
       "      <td>Central Europe and the Baltics</td>\n",
       "      <td>CEB</td>\n",
       "      <td>EN.ATM.CO2E.EG.ZS</td>\n",
       "      <td>1960</td>\n",
       "      <td>3.687416</td>\n",
       "    </tr>\n",
       "    <tr>\n",
       "      <th>3</th>\n",
       "      <td>EN.ATM.CO2E.EG.ZS</td>\n",
       "      <td>Environment: Emissions</td>\n",
       "      <td>CO2 intensity (kg per kg of oil equivalent ene...</td>\n",
       "      <td>NaN</td>\n",
       "      <td>Carbon dioxide emissions from solid fuel consu...</td>\n",
       "      <td>NaN</td>\n",
       "      <td>Annual</td>\n",
       "      <td>NaN</td>\n",
       "      <td>NaN</td>\n",
       "      <td>Weighted average</td>\n",
       "      <td>...</td>\n",
       "      <td>NaN</td>\n",
       "      <td>CC BY-4.0</td>\n",
       "      <td>NaN</td>\n",
       "      <td>Environment</td>\n",
       "      <td>Emissions</td>\n",
       "      <td>Early-demographic dividend</td>\n",
       "      <td>EAR</td>\n",
       "      <td>EN.ATM.CO2E.EG.ZS</td>\n",
       "      <td>1960</td>\n",
       "      <td>1.573502</td>\n",
       "    </tr>\n",
       "    <tr>\n",
       "      <th>4</th>\n",
       "      <td>EN.ATM.CO2E.EG.ZS</td>\n",
       "      <td>Environment: Emissions</td>\n",
       "      <td>CO2 intensity (kg per kg of oil equivalent ene...</td>\n",
       "      <td>NaN</td>\n",
       "      <td>Carbon dioxide emissions from solid fuel consu...</td>\n",
       "      <td>NaN</td>\n",
       "      <td>Annual</td>\n",
       "      <td>NaN</td>\n",
       "      <td>NaN</td>\n",
       "      <td>Weighted average</td>\n",
       "      <td>...</td>\n",
       "      <td>NaN</td>\n",
       "      <td>CC BY-4.0</td>\n",
       "      <td>NaN</td>\n",
       "      <td>Environment</td>\n",
       "      <td>Emissions</td>\n",
       "      <td>East Asia &amp; Pacific</td>\n",
       "      <td>EAS</td>\n",
       "      <td>EN.ATM.CO2E.EG.ZS</td>\n",
       "      <td>1960</td>\n",
       "      <td>2.858775</td>\n",
       "    </tr>\n",
       "    <tr>\n",
       "      <th>...</th>\n",
       "      <td>...</td>\n",
       "      <td>...</td>\n",
       "      <td>...</td>\n",
       "      <td>...</td>\n",
       "      <td>...</td>\n",
       "      <td>...</td>\n",
       "      <td>...</td>\n",
       "      <td>...</td>\n",
       "      <td>...</td>\n",
       "      <td>...</td>\n",
       "      <td>...</td>\n",
       "      <td>...</td>\n",
       "      <td>...</td>\n",
       "      <td>...</td>\n",
       "      <td>...</td>\n",
       "      <td>...</td>\n",
       "      <td>...</td>\n",
       "      <td>...</td>\n",
       "      <td>...</td>\n",
       "      <td>...</td>\n",
       "      <td>...</td>\n",
       "    </tr>\n",
       "    <tr>\n",
       "      <th>676363</th>\n",
       "      <td>EN.CO2.TRAN.ZS</td>\n",
       "      <td>Environment: Emissions</td>\n",
       "      <td>CO2 emissions from transport (% of total fuel ...</td>\n",
       "      <td>NaN</td>\n",
       "      <td>CO2 emissions from transport contains emission...</td>\n",
       "      <td>NaN</td>\n",
       "      <td>Annual</td>\n",
       "      <td>NaN</td>\n",
       "      <td>NaN</td>\n",
       "      <td>Weighted average</td>\n",
       "      <td>...</td>\n",
       "      <td>NaN</td>\n",
       "      <td>Use and distribution of these data are subject...</td>\n",
       "      <td>NaN</td>\n",
       "      <td>Environment</td>\n",
       "      <td>Emissions</td>\n",
       "      <td>Virgin Islands (U.S.)</td>\n",
       "      <td>VIR</td>\n",
       "      <td>EN.CO2.TRAN.ZS</td>\n",
       "      <td>Unnamed: 64</td>\n",
       "      <td>NaN</td>\n",
       "    </tr>\n",
       "    <tr>\n",
       "      <th>676364</th>\n",
       "      <td>EN.CO2.TRAN.ZS</td>\n",
       "      <td>Environment: Emissions</td>\n",
       "      <td>CO2 emissions from transport (% of total fuel ...</td>\n",
       "      <td>NaN</td>\n",
       "      <td>CO2 emissions from transport contains emission...</td>\n",
       "      <td>NaN</td>\n",
       "      <td>Annual</td>\n",
       "      <td>NaN</td>\n",
       "      <td>NaN</td>\n",
       "      <td>Weighted average</td>\n",
       "      <td>...</td>\n",
       "      <td>NaN</td>\n",
       "      <td>Use and distribution of these data are subject...</td>\n",
       "      <td>NaN</td>\n",
       "      <td>Environment</td>\n",
       "      <td>Emissions</td>\n",
       "      <td>West Bank and Gaza</td>\n",
       "      <td>PSE</td>\n",
       "      <td>EN.CO2.TRAN.ZS</td>\n",
       "      <td>Unnamed: 64</td>\n",
       "      <td>NaN</td>\n",
       "    </tr>\n",
       "    <tr>\n",
       "      <th>676365</th>\n",
       "      <td>EN.CO2.TRAN.ZS</td>\n",
       "      <td>Environment: Emissions</td>\n",
       "      <td>CO2 emissions from transport (% of total fuel ...</td>\n",
       "      <td>NaN</td>\n",
       "      <td>CO2 emissions from transport contains emission...</td>\n",
       "      <td>NaN</td>\n",
       "      <td>Annual</td>\n",
       "      <td>NaN</td>\n",
       "      <td>NaN</td>\n",
       "      <td>Weighted average</td>\n",
       "      <td>...</td>\n",
       "      <td>NaN</td>\n",
       "      <td>Use and distribution of these data are subject...</td>\n",
       "      <td>NaN</td>\n",
       "      <td>Environment</td>\n",
       "      <td>Emissions</td>\n",
       "      <td>Yemen, Rep.</td>\n",
       "      <td>YEM</td>\n",
       "      <td>EN.CO2.TRAN.ZS</td>\n",
       "      <td>Unnamed: 64</td>\n",
       "      <td>NaN</td>\n",
       "    </tr>\n",
       "    <tr>\n",
       "      <th>676366</th>\n",
       "      <td>EN.CO2.TRAN.ZS</td>\n",
       "      <td>Environment: Emissions</td>\n",
       "      <td>CO2 emissions from transport (% of total fuel ...</td>\n",
       "      <td>NaN</td>\n",
       "      <td>CO2 emissions from transport contains emission...</td>\n",
       "      <td>NaN</td>\n",
       "      <td>Annual</td>\n",
       "      <td>NaN</td>\n",
       "      <td>NaN</td>\n",
       "      <td>Weighted average</td>\n",
       "      <td>...</td>\n",
       "      <td>NaN</td>\n",
       "      <td>Use and distribution of these data are subject...</td>\n",
       "      <td>NaN</td>\n",
       "      <td>Environment</td>\n",
       "      <td>Emissions</td>\n",
       "      <td>Zambia</td>\n",
       "      <td>ZMB</td>\n",
       "      <td>EN.CO2.TRAN.ZS</td>\n",
       "      <td>Unnamed: 64</td>\n",
       "      <td>NaN</td>\n",
       "    </tr>\n",
       "    <tr>\n",
       "      <th>676367</th>\n",
       "      <td>EN.CO2.TRAN.ZS</td>\n",
       "      <td>Environment: Emissions</td>\n",
       "      <td>CO2 emissions from transport (% of total fuel ...</td>\n",
       "      <td>NaN</td>\n",
       "      <td>CO2 emissions from transport contains emission...</td>\n",
       "      <td>NaN</td>\n",
       "      <td>Annual</td>\n",
       "      <td>NaN</td>\n",
       "      <td>NaN</td>\n",
       "      <td>Weighted average</td>\n",
       "      <td>...</td>\n",
       "      <td>NaN</td>\n",
       "      <td>Use and distribution of these data are subject...</td>\n",
       "      <td>NaN</td>\n",
       "      <td>Environment</td>\n",
       "      <td>Emissions</td>\n",
       "      <td>Zimbabwe</td>\n",
       "      <td>ZWE</td>\n",
       "      <td>EN.CO2.TRAN.ZS</td>\n",
       "      <td>Unnamed: 64</td>\n",
       "      <td>NaN</td>\n",
       "    </tr>\n",
       "  </tbody>\n",
       "</table>\n",
       "<p>676368 rows × 28 columns</p>\n",
       "</div>"
      ],
      "text/plain": [
       "              Series Code                   Topic  \\\n",
       "0       EN.ATM.CO2E.EG.ZS  Environment: Emissions   \n",
       "1       EN.ATM.CO2E.EG.ZS  Environment: Emissions   \n",
       "2       EN.ATM.CO2E.EG.ZS  Environment: Emissions   \n",
       "3       EN.ATM.CO2E.EG.ZS  Environment: Emissions   \n",
       "4       EN.ATM.CO2E.EG.ZS  Environment: Emissions   \n",
       "...                   ...                     ...   \n",
       "676363     EN.CO2.TRAN.ZS  Environment: Emissions   \n",
       "676364     EN.CO2.TRAN.ZS  Environment: Emissions   \n",
       "676365     EN.CO2.TRAN.ZS  Environment: Emissions   \n",
       "676366     EN.CO2.TRAN.ZS  Environment: Emissions   \n",
       "676367     EN.CO2.TRAN.ZS  Environment: Emissions   \n",
       "\n",
       "                                           Indicator Name Short definition  \\\n",
       "0       CO2 intensity (kg per kg of oil equivalent ene...              NaN   \n",
       "1       CO2 intensity (kg per kg of oil equivalent ene...              NaN   \n",
       "2       CO2 intensity (kg per kg of oil equivalent ene...              NaN   \n",
       "3       CO2 intensity (kg per kg of oil equivalent ene...              NaN   \n",
       "4       CO2 intensity (kg per kg of oil equivalent ene...              NaN   \n",
       "...                                                   ...              ...   \n",
       "676363  CO2 emissions from transport (% of total fuel ...              NaN   \n",
       "676364  CO2 emissions from transport (% of total fuel ...              NaN   \n",
       "676365  CO2 emissions from transport (% of total fuel ...              NaN   \n",
       "676366  CO2 emissions from transport (% of total fuel ...              NaN   \n",
       "676367  CO2 emissions from transport (% of total fuel ...              NaN   \n",
       "\n",
       "                                          Long definition Unit of measure  \\\n",
       "0       Carbon dioxide emissions from solid fuel consu...             NaN   \n",
       "1       Carbon dioxide emissions from solid fuel consu...             NaN   \n",
       "2       Carbon dioxide emissions from solid fuel consu...             NaN   \n",
       "3       Carbon dioxide emissions from solid fuel consu...             NaN   \n",
       "4       Carbon dioxide emissions from solid fuel consu...             NaN   \n",
       "...                                                   ...             ...   \n",
       "676363  CO2 emissions from transport contains emission...             NaN   \n",
       "676364  CO2 emissions from transport contains emission...             NaN   \n",
       "676365  CO2 emissions from transport contains emission...             NaN   \n",
       "676366  CO2 emissions from transport contains emission...             NaN   \n",
       "676367  CO2 emissions from transport contains emission...             NaN   \n",
       "\n",
       "       Periodicity Base Period Other notes Aggregation method  ...  \\\n",
       "0           Annual         NaN         NaN   Weighted average  ...   \n",
       "1           Annual         NaN         NaN   Weighted average  ...   \n",
       "2           Annual         NaN         NaN   Weighted average  ...   \n",
       "3           Annual         NaN         NaN   Weighted average  ...   \n",
       "4           Annual         NaN         NaN   Weighted average  ...   \n",
       "...            ...         ...         ...                ...  ...   \n",
       "676363      Annual         NaN         NaN   Weighted average  ...   \n",
       "676364      Annual         NaN         NaN   Weighted average  ...   \n",
       "676365      Annual         NaN         NaN   Weighted average  ...   \n",
       "676366      Annual         NaN         NaN   Weighted average  ...   \n",
       "676367      Annual         NaN         NaN   Weighted average  ...   \n",
       "\n",
       "       Related indicators                                       License Type  \\\n",
       "0                     NaN                                          CC BY-4.0   \n",
       "1                     NaN                                          CC BY-4.0   \n",
       "2                     NaN                                          CC BY-4.0   \n",
       "3                     NaN                                          CC BY-4.0   \n",
       "4                     NaN                                          CC BY-4.0   \n",
       "...                   ...                                                ...   \n",
       "676363                NaN  Use and distribution of these data are subject...   \n",
       "676364                NaN  Use and distribution of these data are subject...   \n",
       "676365                NaN  Use and distribution of these data are subject...   \n",
       "676366                NaN  Use and distribution of these data are subject...   \n",
       "676367                NaN  Use and distribution of these data are subject...   \n",
       "\n",
       "       Unnamed: 20    Topic key    Subtopic                    Country Name  \\\n",
       "0              NaN  Environment   Emissions                      Arab World   \n",
       "1              NaN  Environment   Emissions          Caribbean small states   \n",
       "2              NaN  Environment   Emissions  Central Europe and the Baltics   \n",
       "3              NaN  Environment   Emissions      Early-demographic dividend   \n",
       "4              NaN  Environment   Emissions             East Asia & Pacific   \n",
       "...            ...          ...         ...                             ...   \n",
       "676363         NaN  Environment   Emissions           Virgin Islands (U.S.)   \n",
       "676364         NaN  Environment   Emissions              West Bank and Gaza   \n",
       "676365         NaN  Environment   Emissions                     Yemen, Rep.   \n",
       "676366         NaN  Environment   Emissions                          Zambia   \n",
       "676367         NaN  Environment   Emissions                        Zimbabwe   \n",
       "\n",
       "       Country Code     Indicator Code         Year Indicator Value  \n",
       "0               ARB  EN.ATM.CO2E.EG.ZS         1960             NaN  \n",
       "1               CSS  EN.ATM.CO2E.EG.ZS         1960             NaN  \n",
       "2               CEB  EN.ATM.CO2E.EG.ZS         1960        3.687416  \n",
       "3               EAR  EN.ATM.CO2E.EG.ZS         1960        1.573502  \n",
       "4               EAS  EN.ATM.CO2E.EG.ZS         1960        2.858775  \n",
       "...             ...                ...          ...             ...  \n",
       "676363          VIR     EN.CO2.TRAN.ZS  Unnamed: 64             NaN  \n",
       "676364          PSE     EN.CO2.TRAN.ZS  Unnamed: 64             NaN  \n",
       "676365          YEM     EN.CO2.TRAN.ZS  Unnamed: 64             NaN  \n",
       "676366          ZMB     EN.CO2.TRAN.ZS  Unnamed: 64             NaN  \n",
       "676367          ZWE     EN.CO2.TRAN.ZS  Unnamed: 64             NaN  \n",
       "\n",
       "[676368 rows x 28 columns]"
      ]
     },
     "execution_count": 6,
     "metadata": {},
     "output_type": "execute_result"
    }
   ],
   "source": [
    "Emissions_df=Emissions_df.melt(id_vars=(Emissions_df.iloc[:, 0:26]),value_vars=(Emissions_df.iloc[:, 26:]),var_name='Year',value_name=('Indicator Value'))\n",
    "Emissions_df"
   ]
  },
  {
   "cell_type": "markdown",
   "metadata": {},
   "source": [
    "-------"
   ]
  },
  {
   "cell_type": "markdown",
   "metadata": {},
   "source": [
    "### Exercise 4:\n",
    "\n",
    "The column ```Indicator Value``` of the new ```Emissions_df``` contains a bunch of ```NaN``` values. Additionally, the ```Year``` column contains an ```Unnamed: 64``` value. What procedure should we follow to clean these missing values in our DataFrame? Proceed with your suggested cleaning process."
   ]
  },
  {
   "cell_type": "markdown",
   "metadata": {},
   "source": [
    "**Answer.**"
   ]
  },
  {
   "cell_type": "code",
   "execution_count": 7,
   "metadata": {},
   "outputs": [
    {
     "data": {
      "text/html": [
       "<div>\n",
       "<style scoped>\n",
       "    .dataframe tbody tr th:only-of-type {\n",
       "        vertical-align: middle;\n",
       "    }\n",
       "\n",
       "    .dataframe tbody tr th {\n",
       "        vertical-align: top;\n",
       "    }\n",
       "\n",
       "    .dataframe thead th {\n",
       "        text-align: right;\n",
       "    }\n",
       "</style>\n",
       "<table border=\"1\" class=\"dataframe\">\n",
       "  <thead>\n",
       "    <tr style=\"text-align: right;\">\n",
       "      <th></th>\n",
       "      <th>Series Code</th>\n",
       "      <th>Topic</th>\n",
       "      <th>Indicator Name</th>\n",
       "      <th>Short definition</th>\n",
       "      <th>Long definition</th>\n",
       "      <th>Unit of measure</th>\n",
       "      <th>Periodicity</th>\n",
       "      <th>Base Period</th>\n",
       "      <th>Other notes</th>\n",
       "      <th>Aggregation method</th>\n",
       "      <th>...</th>\n",
       "      <th>Related indicators</th>\n",
       "      <th>License Type</th>\n",
       "      <th>Unnamed: 20</th>\n",
       "      <th>Topic key</th>\n",
       "      <th>Subtopic</th>\n",
       "      <th>Country Name</th>\n",
       "      <th>Country Code</th>\n",
       "      <th>Indicator Code</th>\n",
       "      <th>Year</th>\n",
       "      <th>Indicator Value</th>\n",
       "    </tr>\n",
       "  </thead>\n",
       "  <tbody>\n",
       "    <tr>\n",
       "      <th>2</th>\n",
       "      <td>EN.ATM.CO2E.EG.ZS</td>\n",
       "      <td>Environment: Emissions</td>\n",
       "      <td>CO2 intensity (kg per kg of oil equivalent ene...</td>\n",
       "      <td>NaN</td>\n",
       "      <td>Carbon dioxide emissions from solid fuel consu...</td>\n",
       "      <td>NaN</td>\n",
       "      <td>Annual</td>\n",
       "      <td>NaN</td>\n",
       "      <td>NaN</td>\n",
       "      <td>Weighted average</td>\n",
       "      <td>...</td>\n",
       "      <td>NaN</td>\n",
       "      <td>CC BY-4.0</td>\n",
       "      <td>NaN</td>\n",
       "      <td>Environment</td>\n",
       "      <td>Emissions</td>\n",
       "      <td>Central Europe and the Baltics</td>\n",
       "      <td>CEB</td>\n",
       "      <td>EN.ATM.CO2E.EG.ZS</td>\n",
       "      <td>1960</td>\n",
       "      <td>3.687416</td>\n",
       "    </tr>\n",
       "    <tr>\n",
       "      <th>3</th>\n",
       "      <td>EN.ATM.CO2E.EG.ZS</td>\n",
       "      <td>Environment: Emissions</td>\n",
       "      <td>CO2 intensity (kg per kg of oil equivalent ene...</td>\n",
       "      <td>NaN</td>\n",
       "      <td>Carbon dioxide emissions from solid fuel consu...</td>\n",
       "      <td>NaN</td>\n",
       "      <td>Annual</td>\n",
       "      <td>NaN</td>\n",
       "      <td>NaN</td>\n",
       "      <td>Weighted average</td>\n",
       "      <td>...</td>\n",
       "      <td>NaN</td>\n",
       "      <td>CC BY-4.0</td>\n",
       "      <td>NaN</td>\n",
       "      <td>Environment</td>\n",
       "      <td>Emissions</td>\n",
       "      <td>Early-demographic dividend</td>\n",
       "      <td>EAR</td>\n",
       "      <td>EN.ATM.CO2E.EG.ZS</td>\n",
       "      <td>1960</td>\n",
       "      <td>1.573502</td>\n",
       "    </tr>\n",
       "    <tr>\n",
       "      <th>4</th>\n",
       "      <td>EN.ATM.CO2E.EG.ZS</td>\n",
       "      <td>Environment: Emissions</td>\n",
       "      <td>CO2 intensity (kg per kg of oil equivalent ene...</td>\n",
       "      <td>NaN</td>\n",
       "      <td>Carbon dioxide emissions from solid fuel consu...</td>\n",
       "      <td>NaN</td>\n",
       "      <td>Annual</td>\n",
       "      <td>NaN</td>\n",
       "      <td>NaN</td>\n",
       "      <td>Weighted average</td>\n",
       "      <td>...</td>\n",
       "      <td>NaN</td>\n",
       "      <td>CC BY-4.0</td>\n",
       "      <td>NaN</td>\n",
       "      <td>Environment</td>\n",
       "      <td>Emissions</td>\n",
       "      <td>East Asia &amp; Pacific</td>\n",
       "      <td>EAS</td>\n",
       "      <td>EN.ATM.CO2E.EG.ZS</td>\n",
       "      <td>1960</td>\n",
       "      <td>2.858775</td>\n",
       "    </tr>\n",
       "    <tr>\n",
       "      <th>8</th>\n",
       "      <td>EN.ATM.CO2E.EG.ZS</td>\n",
       "      <td>Environment: Emissions</td>\n",
       "      <td>CO2 intensity (kg per kg of oil equivalent ene...</td>\n",
       "      <td>NaN</td>\n",
       "      <td>Carbon dioxide emissions from solid fuel consu...</td>\n",
       "      <td>NaN</td>\n",
       "      <td>Annual</td>\n",
       "      <td>NaN</td>\n",
       "      <td>NaN</td>\n",
       "      <td>Weighted average</td>\n",
       "      <td>...</td>\n",
       "      <td>NaN</td>\n",
       "      <td>CC BY-4.0</td>\n",
       "      <td>NaN</td>\n",
       "      <td>Environment</td>\n",
       "      <td>Emissions</td>\n",
       "      <td>Europe &amp; Central Asia</td>\n",
       "      <td>ECS</td>\n",
       "      <td>EN.ATM.CO2E.EG.ZS</td>\n",
       "      <td>1960</td>\n",
       "      <td>3.320837</td>\n",
       "    </tr>\n",
       "    <tr>\n",
       "      <th>9</th>\n",
       "      <td>EN.ATM.CO2E.EG.ZS</td>\n",
       "      <td>Environment: Emissions</td>\n",
       "      <td>CO2 intensity (kg per kg of oil equivalent ene...</td>\n",
       "      <td>NaN</td>\n",
       "      <td>Carbon dioxide emissions from solid fuel consu...</td>\n",
       "      <td>NaN</td>\n",
       "      <td>Annual</td>\n",
       "      <td>NaN</td>\n",
       "      <td>NaN</td>\n",
       "      <td>Weighted average</td>\n",
       "      <td>...</td>\n",
       "      <td>NaN</td>\n",
       "      <td>CC BY-4.0</td>\n",
       "      <td>NaN</td>\n",
       "      <td>Environment</td>\n",
       "      <td>Emissions</td>\n",
       "      <td>Europe &amp; Central Asia (excluding high income)</td>\n",
       "      <td>ECA</td>\n",
       "      <td>EN.ATM.CO2E.EG.ZS</td>\n",
       "      <td>1960</td>\n",
       "      <td>1.573502</td>\n",
       "    </tr>\n",
       "    <tr>\n",
       "      <th>...</th>\n",
       "      <td>...</td>\n",
       "      <td>...</td>\n",
       "      <td>...</td>\n",
       "      <td>...</td>\n",
       "      <td>...</td>\n",
       "      <td>...</td>\n",
       "      <td>...</td>\n",
       "      <td>...</td>\n",
       "      <td>...</td>\n",
       "      <td>...</td>\n",
       "      <td>...</td>\n",
       "      <td>...</td>\n",
       "      <td>...</td>\n",
       "      <td>...</td>\n",
       "      <td>...</td>\n",
       "      <td>...</td>\n",
       "      <td>...</td>\n",
       "      <td>...</td>\n",
       "      <td>...</td>\n",
       "      <td>...</td>\n",
       "      <td>...</td>\n",
       "    </tr>\n",
       "    <tr>\n",
       "      <th>641252</th>\n",
       "      <td>EN.ATM.PM25.MC.ZS</td>\n",
       "      <td>Environment: Emissions</td>\n",
       "      <td>PM2.5 air pollution, population exposed to lev...</td>\n",
       "      <td>NaN</td>\n",
       "      <td>Percent of population exposed to ambient conce...</td>\n",
       "      <td>NaN</td>\n",
       "      <td>Annual</td>\n",
       "      <td>NaN</td>\n",
       "      <td>NaN</td>\n",
       "      <td>Weighted average</td>\n",
       "      <td>...</td>\n",
       "      <td>NaN</td>\n",
       "      <td>CC BY-4.0</td>\n",
       "      <td>NaN</td>\n",
       "      <td>Environment</td>\n",
       "      <td>Emissions</td>\n",
       "      <td>West Bank and Gaza</td>\n",
       "      <td>PSE</td>\n",
       "      <td>EN.ATM.PM25.MC.ZS</td>\n",
       "      <td>2017</td>\n",
       "      <td>100.000000</td>\n",
       "    </tr>\n",
       "    <tr>\n",
       "      <th>641253</th>\n",
       "      <td>EN.ATM.PM25.MC.ZS</td>\n",
       "      <td>Environment: Emissions</td>\n",
       "      <td>PM2.5 air pollution, population exposed to lev...</td>\n",
       "      <td>NaN</td>\n",
       "      <td>Percent of population exposed to ambient conce...</td>\n",
       "      <td>NaN</td>\n",
       "      <td>Annual</td>\n",
       "      <td>NaN</td>\n",
       "      <td>NaN</td>\n",
       "      <td>Weighted average</td>\n",
       "      <td>...</td>\n",
       "      <td>NaN</td>\n",
       "      <td>CC BY-4.0</td>\n",
       "      <td>NaN</td>\n",
       "      <td>Environment</td>\n",
       "      <td>Emissions</td>\n",
       "      <td>Yemen, Rep.</td>\n",
       "      <td>YEM</td>\n",
       "      <td>EN.ATM.PM25.MC.ZS</td>\n",
       "      <td>2017</td>\n",
       "      <td>100.000000</td>\n",
       "    </tr>\n",
       "    <tr>\n",
       "      <th>641254</th>\n",
       "      <td>EN.ATM.PM25.MC.ZS</td>\n",
       "      <td>Environment: Emissions</td>\n",
       "      <td>PM2.5 air pollution, population exposed to lev...</td>\n",
       "      <td>NaN</td>\n",
       "      <td>Percent of population exposed to ambient conce...</td>\n",
       "      <td>NaN</td>\n",
       "      <td>Annual</td>\n",
       "      <td>NaN</td>\n",
       "      <td>NaN</td>\n",
       "      <td>Weighted average</td>\n",
       "      <td>...</td>\n",
       "      <td>NaN</td>\n",
       "      <td>CC BY-4.0</td>\n",
       "      <td>NaN</td>\n",
       "      <td>Environment</td>\n",
       "      <td>Emissions</td>\n",
       "      <td>Zambia</td>\n",
       "      <td>ZMB</td>\n",
       "      <td>EN.ATM.PM25.MC.ZS</td>\n",
       "      <td>2017</td>\n",
       "      <td>100.000000</td>\n",
       "    </tr>\n",
       "    <tr>\n",
       "      <th>641255</th>\n",
       "      <td>EN.ATM.PM25.MC.ZS</td>\n",
       "      <td>Environment: Emissions</td>\n",
       "      <td>PM2.5 air pollution, population exposed to lev...</td>\n",
       "      <td>NaN</td>\n",
       "      <td>Percent of population exposed to ambient conce...</td>\n",
       "      <td>NaN</td>\n",
       "      <td>Annual</td>\n",
       "      <td>NaN</td>\n",
       "      <td>NaN</td>\n",
       "      <td>Weighted average</td>\n",
       "      <td>...</td>\n",
       "      <td>NaN</td>\n",
       "      <td>CC BY-4.0</td>\n",
       "      <td>NaN</td>\n",
       "      <td>Environment</td>\n",
       "      <td>Emissions</td>\n",
       "      <td>Zimbabwe</td>\n",
       "      <td>ZWE</td>\n",
       "      <td>EN.ATM.PM25.MC.ZS</td>\n",
       "      <td>2017</td>\n",
       "      <td>100.000000</td>\n",
       "    </tr>\n",
       "    <tr>\n",
       "      <th>645184</th>\n",
       "      <td>EN.ATM.CO2E.PC</td>\n",
       "      <td>Environment: Emissions</td>\n",
       "      <td>CO2 emissions (metric tons per capita)</td>\n",
       "      <td>NaN</td>\n",
       "      <td>Carbon dioxide emissions are those stemming fr...</td>\n",
       "      <td>NaN</td>\n",
       "      <td>Annual</td>\n",
       "      <td>NaN</td>\n",
       "      <td>NaN</td>\n",
       "      <td>Weighted average</td>\n",
       "      <td>...</td>\n",
       "      <td>NaN</td>\n",
       "      <td>CC BY-4.0</td>\n",
       "      <td>NaN</td>\n",
       "      <td>Environment</td>\n",
       "      <td>Emissions</td>\n",
       "      <td>Sudan</td>\n",
       "      <td>SDN</td>\n",
       "      <td>EN.ATM.CO2E.PC</td>\n",
       "      <td>2018</td>\n",
       "      <td>0.000000</td>\n",
       "    </tr>\n",
       "  </tbody>\n",
       "</table>\n",
       "<p>325858 rows × 28 columns</p>\n",
       "</div>"
      ],
      "text/plain": [
       "              Series Code                   Topic  \\\n",
       "2       EN.ATM.CO2E.EG.ZS  Environment: Emissions   \n",
       "3       EN.ATM.CO2E.EG.ZS  Environment: Emissions   \n",
       "4       EN.ATM.CO2E.EG.ZS  Environment: Emissions   \n",
       "8       EN.ATM.CO2E.EG.ZS  Environment: Emissions   \n",
       "9       EN.ATM.CO2E.EG.ZS  Environment: Emissions   \n",
       "...                   ...                     ...   \n",
       "641252  EN.ATM.PM25.MC.ZS  Environment: Emissions   \n",
       "641253  EN.ATM.PM25.MC.ZS  Environment: Emissions   \n",
       "641254  EN.ATM.PM25.MC.ZS  Environment: Emissions   \n",
       "641255  EN.ATM.PM25.MC.ZS  Environment: Emissions   \n",
       "645184     EN.ATM.CO2E.PC  Environment: Emissions   \n",
       "\n",
       "                                           Indicator Name Short definition  \\\n",
       "2       CO2 intensity (kg per kg of oil equivalent ene...              NaN   \n",
       "3       CO2 intensity (kg per kg of oil equivalent ene...              NaN   \n",
       "4       CO2 intensity (kg per kg of oil equivalent ene...              NaN   \n",
       "8       CO2 intensity (kg per kg of oil equivalent ene...              NaN   \n",
       "9       CO2 intensity (kg per kg of oil equivalent ene...              NaN   \n",
       "...                                                   ...              ...   \n",
       "641252  PM2.5 air pollution, population exposed to lev...              NaN   \n",
       "641253  PM2.5 air pollution, population exposed to lev...              NaN   \n",
       "641254  PM2.5 air pollution, population exposed to lev...              NaN   \n",
       "641255  PM2.5 air pollution, population exposed to lev...              NaN   \n",
       "645184             CO2 emissions (metric tons per capita)              NaN   \n",
       "\n",
       "                                          Long definition Unit of measure  \\\n",
       "2       Carbon dioxide emissions from solid fuel consu...             NaN   \n",
       "3       Carbon dioxide emissions from solid fuel consu...             NaN   \n",
       "4       Carbon dioxide emissions from solid fuel consu...             NaN   \n",
       "8       Carbon dioxide emissions from solid fuel consu...             NaN   \n",
       "9       Carbon dioxide emissions from solid fuel consu...             NaN   \n",
       "...                                                   ...             ...   \n",
       "641252  Percent of population exposed to ambient conce...             NaN   \n",
       "641253  Percent of population exposed to ambient conce...             NaN   \n",
       "641254  Percent of population exposed to ambient conce...             NaN   \n",
       "641255  Percent of population exposed to ambient conce...             NaN   \n",
       "645184  Carbon dioxide emissions are those stemming fr...             NaN   \n",
       "\n",
       "       Periodicity Base Period Other notes Aggregation method  ...  \\\n",
       "2           Annual         NaN         NaN   Weighted average  ...   \n",
       "3           Annual         NaN         NaN   Weighted average  ...   \n",
       "4           Annual         NaN         NaN   Weighted average  ...   \n",
       "8           Annual         NaN         NaN   Weighted average  ...   \n",
       "9           Annual         NaN         NaN   Weighted average  ...   \n",
       "...            ...         ...         ...                ...  ...   \n",
       "641252      Annual         NaN         NaN   Weighted average  ...   \n",
       "641253      Annual         NaN         NaN   Weighted average  ...   \n",
       "641254      Annual         NaN         NaN   Weighted average  ...   \n",
       "641255      Annual         NaN         NaN   Weighted average  ...   \n",
       "645184      Annual         NaN         NaN   Weighted average  ...   \n",
       "\n",
       "       Related indicators License Type Unnamed: 20    Topic key    Subtopic  \\\n",
       "2                     NaN    CC BY-4.0         NaN  Environment   Emissions   \n",
       "3                     NaN    CC BY-4.0         NaN  Environment   Emissions   \n",
       "4                     NaN    CC BY-4.0         NaN  Environment   Emissions   \n",
       "8                     NaN    CC BY-4.0         NaN  Environment   Emissions   \n",
       "9                     NaN    CC BY-4.0         NaN  Environment   Emissions   \n",
       "...                   ...          ...         ...          ...         ...   \n",
       "641252                NaN    CC BY-4.0         NaN  Environment   Emissions   \n",
       "641253                NaN    CC BY-4.0         NaN  Environment   Emissions   \n",
       "641254                NaN    CC BY-4.0         NaN  Environment   Emissions   \n",
       "641255                NaN    CC BY-4.0         NaN  Environment   Emissions   \n",
       "645184                NaN    CC BY-4.0         NaN  Environment   Emissions   \n",
       "\n",
       "                                         Country Name Country Code  \\\n",
       "2                      Central Europe and the Baltics          CEB   \n",
       "3                          Early-demographic dividend          EAR   \n",
       "4                                 East Asia & Pacific          EAS   \n",
       "8                               Europe & Central Asia          ECS   \n",
       "9       Europe & Central Asia (excluding high income)          ECA   \n",
       "...                                               ...          ...   \n",
       "641252                             West Bank and Gaza          PSE   \n",
       "641253                                    Yemen, Rep.          YEM   \n",
       "641254                                         Zambia          ZMB   \n",
       "641255                                       Zimbabwe          ZWE   \n",
       "645184                                          Sudan          SDN   \n",
       "\n",
       "           Indicator Code  Year Indicator Value  \n",
       "2       EN.ATM.CO2E.EG.ZS  1960        3.687416  \n",
       "3       EN.ATM.CO2E.EG.ZS  1960        1.573502  \n",
       "4       EN.ATM.CO2E.EG.ZS  1960        2.858775  \n",
       "8       EN.ATM.CO2E.EG.ZS  1960        3.320837  \n",
       "9       EN.ATM.CO2E.EG.ZS  1960        1.573502  \n",
       "...                   ...   ...             ...  \n",
       "641252  EN.ATM.PM25.MC.ZS  2017      100.000000  \n",
       "641253  EN.ATM.PM25.MC.ZS  2017      100.000000  \n",
       "641254  EN.ATM.PM25.MC.ZS  2017      100.000000  \n",
       "641255  EN.ATM.PM25.MC.ZS  2017      100.000000  \n",
       "645184     EN.ATM.CO2E.PC  2018        0.000000  \n",
       "\n",
       "[325858 rows x 28 columns]"
      ]
     },
     "execution_count": 7,
     "metadata": {},
     "output_type": "execute_result"
    }
   ],
   "source": [
    "Emissions_df=Emissions_df[Emissions_df['Year']!='Unnamed: 64']\n",
    "#I erase the rows with Year==Unnamed 64, because it is not a year and all the 'Indicator value' for this 'Year' were 0\n",
    "\n",
    "Emissions_df.dropna(subset=['Indicator Value'],inplace=True)\n",
    "#I erase the rows with NaN in Indicator values, its not useful for this case to have non values.\n",
    "Emissions_df"
   ]
  },
  {
   "cell_type": "markdown",
   "metadata": {
    "scrolled": true
   },
   "source": [
    "-------"
   ]
  },
  {
   "cell_type": "markdown",
   "metadata": {},
   "source": [
    "### Exercise 5:\n",
    "\n",
    "Split the ```Emissions_df``` into two DataFrames, one containing only countries and the other containing only regions. Name these ```Emissions_C_df``` and ```Emissions_R_df``` respectively.\n",
    "\n",
    "**Hint:** You may want to inspect the file ```WDICountry.csv``` for this task. Region country codes may be found by looking at ```null``` values of the ```Region``` column in ```WDICountry```."
   ]
  },
  {
   "cell_type": "markdown",
   "metadata": {},
   "source": [
    "**Answer.**"
   ]
  },
  {
   "cell_type": "code",
   "execution_count": 8,
   "metadata": {},
   "outputs": [],
   "source": [
    "WDI_country = pd.read_csv(\"./files/WDI_csv/WDICountry.csv\")\n",
    "Emissions_df=Emissions_df.merge(WDI_country[['Country Code','Region','Income Group']],on='Country Code',how='left')"
   ]
  },
  {
   "cell_type": "code",
   "execution_count": 9,
   "metadata": {
    "scrolled": true
   },
   "outputs": [],
   "source": [
    "Emissions_R_df=Emissions_df[Emissions_df['Region'].isnull()]\n",
    "Emissions_C_df=Emissions_df[Emissions_df['Region'].notnull()]"
   ]
  },
  {
   "cell_type": "markdown",
   "metadata": {
    "scrolled": true
   },
   "source": [
    "-------"
   ]
  },
  {
   "cell_type": "markdown",
   "metadata": {},
   "source": [
    "## Finalizing the cleaning for our study\n",
    "\n",
    "Our data has improved a lot by now. However, since the number of indicators is still quite large, let us focus our study on the following indicators for now:\n",
    "\n",
    "- **Total greenhouse gas emissions (kt of CO2 equivalent), EN.ATM.GHGT.KT.CE**: The total of greenhouse emissions includes CO2, Methane, Nitrous oxide, among other pollutant gases. Measured in kilotons.\n",
    "\n",
    "\n",
    "- **CO2 emissions (kt), EN.ATM.CO2E.KT**: Carbon dioxide emissions are those stemming from the burning of fossil fuels and the manufacture of cement. They include carbon dioxide produced during consumption of solid, liquid, and gas fuels and gas flaring. \t\n",
    "\n",
    "\n",
    "- **Methane emissions (kt of CO2 equivalent), EN.ATM.METH.KT.CE**: Methane emissions are those stemming from human activities such as agriculture and from industrial methane production.\n",
    "\n",
    "\n",
    "- **Nitrous oxide emissions (kt of CO2 equivalent), EN.ATM.NOXE.KT.CE**: Nitrous oxide emissions are emissions from agricultural biomass burning, industrial activities, and livestock management.\n",
    "\n",
    "\n",
    "- **Other greenhouse gas emissions, HFC, PFC and SF6 (kt of CO2 equivalent), EN.ATM.GHGO.KT.CE**: Other pollutant gases.\n",
    "\n",
    "\n",
    "- **PM2.5 air pollution, mean annual exposure (micrograms per cubic meter), EN.ATM.PM25.MC.M3**: Population-weighted exposure to ambient PM2.5 pollution is defined as the average level of exposure of a nation's population to concentrations of suspended particles measuring less than 2.5 microns in aerodynamic diameter, which are capable of penetrating deep into the respiratory tract and causing severe health damage. Exposure is calculated by weighting mean annual concentrations of PM2.5 by population in both urban and rural areas.\n",
    "\n",
    "\n",
    "- **PM2.5 air pollution, population exposed to levels exceeding WHO guideline value (% of total), EN.ATM.PM25.MC.ZS**: Percent of population exposed to ambient concentrations of PM2.5 that exceed the World Health Organization (WHO) guideline value."
   ]
  },
  {
   "cell_type": "markdown",
   "metadata": {},
   "source": [
    "### Exercise 6:\n",
    "\n",
    "For each of the emissions DataFrames, extract the rows corresponding to the above indicators of interest. Replace the long names of the indicators by the short names ```Total```, ```CO2```, ```CH4```, ```N2O```, ```Other```, ```PM2.5```, and ```PM2.5_WHO```. (This will be helpful later when we need to label plots of our data.) "
   ]
  },
  {
   "cell_type": "markdown",
   "metadata": {},
   "source": [
    "**Answer.**"
   ]
  },
  {
   "cell_type": "markdown",
   "metadata": {},
   "source": [
    "---------"
   ]
  },
  {
   "cell_type": "code",
   "execution_count": 10,
   "metadata": {},
   "outputs": [],
   "source": [
    "list_indicators=['EN.ATM.GHGT.KT.CE','EN.ATM.CO2E.KT','EN.ATM.METH.KT.CE','EN.ATM.NOXE.KT.CE','EN.ATM.GHGO.KT.CE','EN.ATM.PM25.MC.M3','EN.ATM.PM25.MC.ZS']\n",
    "Emissions_C_df=Emissions_C_df[Emissions_C_df['Indicator Code'].isin(list_indicators)]\n",
    "Emissions_R_df=Emissions_R_df[Emissions_R_df['Indicator Code'].isin(list_indicators)]\n",
    "\n"
   ]
  },
  {
   "cell_type": "code",
   "execution_count": 11,
   "metadata": {},
   "outputs": [],
   "source": [
    "Emissions_C_df.replace('Total greenhouse gas emissions (kt of CO2 equivalent)','Total',inplace=True)\n",
    "Emissions_C_df.replace('CO2 emissions (kt)','CO2',inplace=True)\n",
    "Emissions_C_df.replace('Methane emissions (kt of CO2 equivalent)','CH4',inplace=True)\n",
    "Emissions_C_df.replace('Nitrous oxide emissions (thousand metric tons of CO2 equivalent)','N2O',inplace=True)\n",
    "Emissions_C_df.replace('Other greenhouse gas emissions, HFC, PFC and SF6 (thousand metric tons of CO2 equivalent)','Other',inplace=True)\n",
    "Emissions_C_df.replace('PM2.5 air pollution, mean annual exposure (micrograms per cubic meter)','PM2.5',inplace=True)\n",
    "Emissions_C_df.replace('PM2.5 air pollution, population exposed to levels exceeding WHO guideline value (% of total)','PM2.5_WHO',inplace=True)\n",
    "\n",
    "Emissions_R_df.replace('Total greenhouse gas emissions (kt of CO2 equivalent)','Total',inplace=True)\n",
    "Emissions_R_df.replace('CO2 emissions (kt)','CO2',inplace=True)\n",
    "Emissions_R_df.replace('Methane emissions (kt of CO2 equivalent)','CH4',inplace=True)\n",
    "Emissions_R_df.replace('Nitrous oxide emissions (thousand metric tons of CO2 equivalent)','N2O',inplace=True)\n",
    "Emissions_R_df.replace('Other greenhouse gas emissions, HFC, PFC and SF6 (thousand metric tons of CO2 equivalent)','Other',inplace=True)\n",
    "Emissions_R_df.replace('PM2.5 air pollution, mean annual exposure (micrograms per cubic meter)','PM2.5',inplace=True)\n",
    "Emissions_R_df.replace('PM2.5 air pollution, population exposed to levels exceeding WHO guideline value (% of total)','PM2.5_WHO',inplace=True)"
   ]
  },
  {
   "cell_type": "markdown",
   "metadata": {},
   "source": [
    "## Where shall the client start environmental campaigns?\n",
    "\n",
    "Now the DataFrames ```Emissions_C_df``` and ```Emissions_R_df``` seem to be in a good shape. Let's proceed to conduct some exploratory data analysis so that we can make recommendations to our client."
   ]
  },
  {
   "cell_type": "markdown",
   "metadata": {},
   "source": [
    "### Exercise 7:\n",
    "\n",
    " Let's first calculate some basic information about the main indicators across the globe.\n",
    "\n",
    "#### 7.1\n",
    "Compute some basic statistics of the amount of kt of emissions for each of the four main pollutants (```CO2, CH4, N2O, Others```) over the years. Use the ```Emissions_C_df``` data frame. What trends do you see? "
   ]
  },
  {
   "cell_type": "markdown",
   "metadata": {},
   "source": [
    "**Answer.**"
   ]
  },
  {
   "cell_type": "code",
   "execution_count": 12,
   "metadata": {},
   "outputs": [
    {
     "data": {
      "text/plain": [
       "array(['CO2', 'Other', 'Total', 'CH4', 'N2O', 'PM2.5', 'PM2.5_WHO'],\n",
       "      dtype=object)"
      ]
     },
     "execution_count": 12,
     "metadata": {},
     "output_type": "execute_result"
    }
   ],
   "source": [
    "Emissions_C_df['Indicator Name'].unique()"
   ]
  },
  {
   "cell_type": "code",
   "execution_count": 13,
   "metadata": {},
   "outputs": [
    {
     "data": {
      "image/png": "[encoded data removed]",
      "text/plain": [
       "<Figure size 1440x576 with 1 Axes>"
      ]
     },
     "metadata": {
      "needs_background": "light"
     },
     "output_type": "display_data"
    },
    {
     "name": "stdout",
     "output_type": "stream",
     "text": [
      "We can see that the biggest pollutant is CO2 and have been increasing since 1960.\n"
     ]
    }
   ],
   "source": [
    "plt.figure(figsize=(20,8))\n",
    "data_1=Emissions_C_df[Emissions_C_df['Indicator Name'].isin(['CO2', 'CH4', 'N2O', 'Other'])].groupby(['Year','Indicator Name'])['Indicator Value'].sum().reset_index()\n",
    "data_1['Year']=pd.to_datetime(data_1['Year'])\n",
    "\n",
    "sns.lineplot(x='Year',y='Indicator Value',data=data_1,hue='Indicator Name')\n",
    "plt.ylabel(ylabel='Kt of emissions',fontsize=16)\n",
    "plt.xlabel(xlabel='Year',fontsize=16)\n",
    "plt.title('KT of emissions over the year for the main pollutants')\n",
    "plt.show()\n",
    "print('We can see that the biggest pollutant is CO2 and have been increasing since 1960.')"
   ]
  },
  {
   "cell_type": "markdown",
   "metadata": {},
   "source": [
    "---------"
   ]
  },
  {
   "cell_type": "markdown",
   "metadata": {},
   "source": [
    "#### 7.2\n",
    "\n",
    "What can you say about the *distribution* of emissions around the globe over the years? What information can you extract from the *tails* of these distributions over the years?"
   ]
  },
  {
   "cell_type": "markdown",
   "metadata": {},
   "source": [
    "**Answer.**"
   ]
  },
  {
   "cell_type": "code",
   "execution_count": 14,
   "metadata": {},
   "outputs": [
    {
     "name": "stdout",
     "output_type": "stream",
     "text": [
      "As I expect the 5 most pollutant countries are the most development countries, in the other side, the 5 less pollutant countries are very small countries, but is weird that the indicator value is exactly 0, maybe here we dont have information\n"
     ]
    },
    {
     "data": {
      "text/html": [
       "<div>\n",
       "<style scoped>\n",
       "    .dataframe tbody tr th:only-of-type {\n",
       "        vertical-align: middle;\n",
       "    }\n",
       "\n",
       "    .dataframe tbody tr th {\n",
       "        vertical-align: top;\n",
       "    }\n",
       "\n",
       "    .dataframe thead th {\n",
       "        text-align: right;\n",
       "    }\n",
       "</style>\n",
       "<table border=\"1\" class=\"dataframe\">\n",
       "  <thead>\n",
       "    <tr style=\"text-align: right;\">\n",
       "      <th></th>\n",
       "      <th>Country Name</th>\n",
       "      <th>Indicator Value</th>\n",
       "    </tr>\n",
       "  </thead>\n",
       "  <tbody>\n",
       "    <tr>\n",
       "      <th>103</th>\n",
       "      <td>Kosovo</td>\n",
       "      <td>0.000000e+00</td>\n",
       "    </tr>\n",
       "    <tr>\n",
       "      <th>112</th>\n",
       "      <td>Liechtenstein</td>\n",
       "      <td>4.217050e+02</td>\n",
       "    </tr>\n",
       "    <tr>\n",
       "      <th>196</th>\n",
       "      <td>Tuvalu</td>\n",
       "      <td>5.355912e+02</td>\n",
       "    </tr>\n",
       "    <tr>\n",
       "      <th>143</th>\n",
       "      <td>Northern Mariana Islands</td>\n",
       "      <td>1.600365e+03</td>\n",
       "    </tr>\n",
       "    <tr>\n",
       "      <th>168</th>\n",
       "      <td>Sint Maarten (Dutch part)</td>\n",
       "      <td>2.145195e+03</td>\n",
       "    </tr>\n",
       "    <tr>\n",
       "      <th>...</th>\n",
       "      <td>...</td>\n",
       "      <td>...</td>\n",
       "    </tr>\n",
       "    <tr>\n",
       "      <th>88</th>\n",
       "      <td>India</td>\n",
       "      <td>1.359151e+08</td>\n",
       "    </tr>\n",
       "    <tr>\n",
       "      <th>26</th>\n",
       "      <td>Brazil</td>\n",
       "      <td>1.396472e+08</td>\n",
       "    </tr>\n",
       "    <tr>\n",
       "      <th>158</th>\n",
       "      <td>Russian Federation</td>\n",
       "      <td>2.073588e+08</td>\n",
       "    </tr>\n",
       "    <tr>\n",
       "      <th>40</th>\n",
       "      <td>China</td>\n",
       "      <td>4.468048e+08</td>\n",
       "    </tr>\n",
       "    <tr>\n",
       "      <th>201</th>\n",
       "      <td>United States</td>\n",
       "      <td>5.786578e+08</td>\n",
       "    </tr>\n",
       "  </tbody>\n",
       "</table>\n",
       "<p>212 rows × 2 columns</p>\n",
       "</div>"
      ],
      "text/plain": [
       "                  Country Name  Indicator Value\n",
       "103                     Kosovo     0.000000e+00\n",
       "112              Liechtenstein     4.217050e+02\n",
       "196                     Tuvalu     5.355912e+02\n",
       "143   Northern Mariana Islands     1.600365e+03\n",
       "168  Sint Maarten (Dutch part)     2.145195e+03\n",
       "..                         ...              ...\n",
       "88                       India     1.359151e+08\n",
       "26                      Brazil     1.396472e+08\n",
       "158         Russian Federation     2.073588e+08\n",
       "40                       China     4.468048e+08\n",
       "201              United States     5.786578e+08\n",
       "\n",
       "[212 rows x 2 columns]"
      ]
     },
     "execution_count": 14,
     "metadata": {},
     "output_type": "execute_result"
    }
   ],
   "source": [
    "by_country=Emissions_C_df.groupby(['Country Name'])['Indicator Value'].sum().reset_index()\n",
    "\n",
    "print('As I expect the 5 most pollutant countries are the most development countries, in the other side, the 5 less pollutant countries are very small countries, but is weird that the indicator value is exactly 0, maybe here we dont have information')\n",
    "by_country.sort_values('Indicator Value')"
   ]
  },
  {
   "cell_type": "markdown",
   "metadata": {},
   "source": [
    "---------"
   ]
  },
  {
   "cell_type": "markdown",
   "metadata": {},
   "source": [
    "#### 7.3\n",
    "Compute a plot showing the behavior of each of the four main air pollutants for each of the main global regions in the ```Emissions_R_df``` data frame. The main regions are ```'Latin America & Caribbean', 'South Asia', 'Sub-Saharan Africa', 'Europe & Central Asia', 'Middle East & North Africa', 'East Asia & Pacific'``` and ```'North America'```. What conclusions can you make?"
   ]
  },
  {
   "cell_type": "markdown",
   "metadata": {},
   "source": [
    "**Answer.**"
   ]
  },
  {
   "cell_type": "code",
   "execution_count": 15,
   "metadata": {},
   "outputs": [
    {
     "name": "stdout",
     "output_type": "stream",
     "text": [
      "Here we can see that East Asia & Pacific have had an exponential growth in pollutant emissions since 1960. In the other regions we can see a normal growth\n"
     ]
    },
    {
     "data": {
      "image/png": "[encoded data removed]",
      "text/plain": [
       "<Figure size 1034.38x864 with 4 Axes>"
      ]
     },
     "metadata": {
      "needs_background": "light"
     },
     "output_type": "display_data"
    }
   ],
   "source": [
    "data_2=Emissions_R_df[Emissions_R_df['Indicator Name'].isin(['CO2', 'CH4', 'N2O', 'Other'])]\n",
    "data_2=data_2[data_2['Country Name'].isin(['Latin America & Caribbean', 'South Asia', 'Sub-Saharan Africa', 'Europe & Central Asia', 'Middle East & North Africa', 'East Asia & Pacific','North America'])]\n",
    "data_2=data_2.groupby(['Year','Country Name','Indicator Name'])['Indicator Value'].sum().reset_index()\n",
    "data_2['Year']=pd.to_datetime(data_2['Year'])\n",
    "\n",
    "gr=sns.FacetGrid(data_2,row='Indicator Name',hue='Country Name',sharex=True,sharey=False,aspect=4)\n",
    "gr=(gr.map(plt.plot,'Year','Indicator Value').add_legend())\n",
    "print('Here we can see that East Asia & Pacific have had an exponential growth in pollutant emissions since 1960. In the other regions we can see a normal growth')"
   ]
  },
  {
   "cell_type": "markdown",
   "metadata": {},
   "source": [
    "---------"
   ]
  },
  {
   "cell_type": "markdown",
   "metadata": {},
   "source": [
    "### Exercise 8:\n",
    "\n",
    "In Exercise 7 we discovered some interesting features of the distribution of the emissions over the years. Let us explore these features in more detail. "
   ]
  },
  {
   "cell_type": "markdown",
   "metadata": {},
   "source": [
    "#### 8.1\n",
    "Which are the top five countries that have been in the top 10 of ```CO2``` emitters over the years? Have any of these countries made efforts to reduce the amount of CO2 emissions over the last 10 years?"
   ]
  },
  {
   "cell_type": "markdown",
   "metadata": {},
   "source": [
    "**Answer.**"
   ]
  },
  {
   "cell_type": "code",
   "execution_count": 16,
   "metadata": {},
   "outputs": [
    {
     "name": "stdout",
     "output_type": "stream",
     "text": [
      "The top five countries that have been in the top 10 of CO2 emitter are: \n",
      "['United States', 'Japan', 'China', 'United Kingdom', 'India']\n"
     ]
    },
    {
     "data": {
      "image/png": "[encoded data removed]",
      "text/plain": [
       "<Figure size 1080x504 with 1 Axes>"
      ]
     },
     "metadata": {
      "needs_background": "light"
     },
     "output_type": "display_data"
    },
    {
     "name": "stdout",
     "output_type": "stream",
     "text": [
      "According to the plot, we can see that China and India have been increasing their pollution in the last 10 years. The other countries were making an effort to reduce the amount of CO2 emissions\n"
     ]
    }
   ],
   "source": [
    "list_countries_top=[]\n",
    "for i in Emissions_C_df['Year'].unique():\n",
    "    temporal=Emissions_C_df[Emissions_C_df['Year']==i]\n",
    "    temporal=temporal[temporal['Indicator Name']=='CO2']\n",
    "    temporal=temporal.groupby(['Country Name'])['Indicator Value'].sum().reset_index().sort_values('Indicator Value',ascending=False).head()\n",
    "    temporal=list(temporal['Country Name'])\n",
    "    list_countries_top.extend(temporal)\n",
    "    \n",
    "top5=pd.DataFrame(list_countries_top)\n",
    "top5=top5.rename(columns={0:'country'})\n",
    "top5_countries=list(top5.groupby(['country'])['country'].count().sort_values(ascending=False).head().index)\n",
    "print('The top five countries that have been in the top 10 of CO2 emitter are: ')\n",
    "print(top5_countries)\n",
    "\n",
    "plt.figure(figsize=(15,7))\n",
    "data_graph=Emissions_C_df[(Emissions_C_df['Country Name'].isin(top5_countries))&(Emissions_C_df['Indicator Name']=='CO2')].groupby(['Country Name','Year'])['Indicator Value'].sum().reset_index()\n",
    "data_graph['Year']=pd.to_datetime(data_graph['Year'])\n",
    "data_graph=data_graph[data_graph['Indicator Value']>0]\n",
    "sns.lineplot(x='Year',y='Indicator Value',data=data_graph,hue='Country Name')\n",
    "\n",
    "plt.show()\n",
    "\n",
    "print('According to the plot, we can see that China and India have been increasing their pollution in the last 10 years. The other countries were making an effort to reduce the amount of CO2 emissions')"
   ]
  },
  {
   "cell_type": "markdown",
   "metadata": {},
   "source": [
    "---------"
   ]
  },
  {
   "cell_type": "markdown",
   "metadata": {},
   "source": [
    "#### 8.2\n",
    "\n",
    "Are these five countries carrying out the burden of most of the emissions emitted over the years globally? Can we say that the rest of the world is making some effort to control their polluted gasses emissions over the years?"
   ]
  },
  {
   "cell_type": "code",
   "execution_count": 17,
   "metadata": {},
   "outputs": [
    {
     "name": "stdout",
     "output_type": "stream",
     "text": [
      "           Country Name  Indicator Value  percent_of_total  percent_acum\n",
      "196       United States     2.597893e+08          0.262323      0.262323\n",
      "39                China     1.704215e+08          0.172083      0.434406\n",
      "94                Japan     5.197259e+07          0.052479      0.486886\n",
      "86                India     3.876964e+07          0.039148      0.526033\n",
      "153  Russian Federation     3.838037e+07          0.038755      0.564788\n",
      "195      United Kingdom     3.100135e+07          0.031304      0.596092\n",
      "34               Canada     2.341059e+07          0.023639      0.619731\n",
      "66               France     2.145337e+07          0.021663      0.641393\n",
      "92                Italy     1.978202e+07          0.019975      0.661368\n",
      "71              Germany     1.961740e+07          0.019809      0.681177\n",
      "These countries represent more than the half of pollutant gasses emissions\n"
     ]
    }
   ],
   "source": [
    "xx=Emissions_C_df[Emissions_C_df['Indicator Name']=='CO2'].groupby(['Country Name'])['Indicator Value'].sum().reset_index().sort_values('Indicator Value',ascending=False)\n",
    "xx['percent_of_total']=xx.apply(lambda x: x['Indicator Value']/xx['Indicator Value'].sum(),axis=1)\n",
    "xx['percent_acum']=xx['percent_of_total'].cumsum()\n",
    "print(xx.head(10))\n",
    "print('These countries represent more than the half of pollutant gasses emissions')"
   ]
  },
  {
   "cell_type": "markdown",
   "metadata": {},
   "source": [
    "**Answer.**"
   ]
  },
  {
   "cell_type": "markdown",
   "metadata": {},
   "source": [
    "---------"
   ]
  },
  {
   "cell_type": "markdown",
   "metadata": {},
   "source": [
    "## The health impacts of air pollution"
   ]
  },
  {
   "cell_type": "markdown",
   "metadata": {},
   "source": [
    "### Exercise 9:\n",
    "\n",
    "One of the main contributions of poor health from air pollution is particulate matter. In particular, very small particles (those with a size less than 2.5 micrometres ($\\mu$m)) can enter and affect the respiratory system. The ```PM2.5``` indicator measures the average level of exposure of a nation's population to concentrations of these small particles. The ```PM2.5_WHO``` measures the  percentage of the population who are exposed to ambient concentrations of these particles that exceed some thresholds set by the World Health Organization (WHO). In particular, countries with a higher ```PM2.5_WHO``` indicator are more likely to suffer from bad health conditions. \n",
    "\n",
    "\n",
    "#### 9.1\n",
    "\n",
    "The client would like to know if there is any relationship between the ```PM2.5_WHO``` indicator and the level of income of the general population, as well as how this changes over time. What plot(s) might be helpful to solve the client's question?  What conclusion can you draw from your plot(s) to answer their question?\n",
    "\n",
    "**Hint:** The DataFrame ```WDI_countries``` contains a column named ```Income Group```. "
   ]
  },
  {
   "cell_type": "markdown",
   "metadata": {},
   "source": [
    "**Answer.**"
   ]
  },
  {
   "cell_type": "code",
   "execution_count": 18,
   "metadata": {},
   "outputs": [
    {
     "name": "stdout",
     "output_type": "stream",
     "text": [
      "We can see that exist a relation between Income and the Indicator value for PM\".5_ WHO, this means that in low income countries exist a higher percentage of population exposed to this particles than in high income countries.\n"
     ]
    },
    {
     "data": {
      "text/html": [
       "<div>\n",
       "<style scoped>\n",
       "    .dataframe tbody tr th:only-of-type {\n",
       "        vertical-align: middle;\n",
       "    }\n",
       "\n",
       "    .dataframe tbody tr th {\n",
       "        vertical-align: top;\n",
       "    }\n",
       "\n",
       "    .dataframe thead th {\n",
       "        text-align: right;\n",
       "    }\n",
       "</style>\n",
       "<table border=\"1\" class=\"dataframe\">\n",
       "  <thead>\n",
       "    <tr style=\"text-align: right;\">\n",
       "      <th></th>\n",
       "      <th>Income Group</th>\n",
       "      <th>Indicator Value</th>\n",
       "    </tr>\n",
       "  </thead>\n",
       "  <tbody>\n",
       "    <tr>\n",
       "      <th>1</th>\n",
       "      <td>Low income</td>\n",
       "      <td>100.000000</td>\n",
       "    </tr>\n",
       "    <tr>\n",
       "      <th>2</th>\n",
       "      <td>Lower middle income</td>\n",
       "      <td>99.844565</td>\n",
       "    </tr>\n",
       "    <tr>\n",
       "      <th>3</th>\n",
       "      <td>Upper middle income</td>\n",
       "      <td>98.591258</td>\n",
       "    </tr>\n",
       "    <tr>\n",
       "      <th>0</th>\n",
       "      <td>High income</td>\n",
       "      <td>77.184224</td>\n",
       "    </tr>\n",
       "  </tbody>\n",
       "</table>\n",
       "</div>"
      ],
      "text/plain": [
       "          Income Group  Indicator Value\n",
       "1           Low income       100.000000\n",
       "2  Lower middle income        99.844565\n",
       "3  Upper middle income        98.591258\n",
       "0          High income        77.184224"
      ]
     },
     "execution_count": 18,
     "metadata": {},
     "output_type": "execute_result"
    },
    {
     "data": {
      "text/plain": [
       "<Figure size 1440x576 with 0 Axes>"
      ]
     },
     "metadata": {},
     "output_type": "display_data"
    }
   ],
   "source": [
    "plt.figure(figsize=(20,8))\n",
    "data_pm2=Emissions_C_df[Emissions_C_df['Indicator Name']=='PM2.5_WHO'].groupby('Income Group')['Indicator Value'].mean().reset_index()\n",
    "data_pm2.sort_values('Indicator Value',ascending=False,inplace=True)\n",
    "print('We can see that exist a relation between Income and the Indicator value for PM\".5_ WHO, this means that in low income countries exist a higher percentage of population exposed to this particles than in high income countries.')\n",
    "data_pm2"
   ]
  },
  {
   "cell_type": "code",
   "execution_count": 19,
   "metadata": {},
   "outputs": [
    {
     "data": {
      "image/png": "[encoded data removed]",
      "text/plain": [
       "<Figure size 1440x720 with 1 Axes>"
      ]
     },
     "metadata": {
      "needs_background": "light"
     },
     "output_type": "display_data"
    },
    {
     "name": "stdout",
     "output_type": "stream",
     "text": [
      "We can see that the High income countries have been working over the years (They were around 82% in 1990s and in 2017 they were around 65%). The upper middle income countries started their work around 2013, and the other groups are around the 100% (A terrible indicator value)\n"
     ]
    }
   ],
   "source": [
    "plt.figure(figsize=(20,10))\n",
    "\n",
    "data_pm2_g=Emissions_C_df[Emissions_C_df['Indicator Name']=='PM2.5_WHO'].groupby(['Income Group','Year'])['Indicator Value'].mean().reset_index()\n",
    "data_pm2_g['Year']= pd.to_datetime(data_pm2_g['Year'])\n",
    "\n",
    "sns.lineplot(x='Year',y='Indicator Value',data=data_pm2_g,hue='Income Group')\n",
    "\n",
    "plt.title('PM2.5_WHO(mean) over the years for each Income group of countries',fontsize=15)\n",
    "plt.show()\n",
    "print('We can see that the High income countries have been working over the years (They were around 82% in 1990s and in 2017 they were around 65%). The upper middle income countries started their work around 2013, and the other groups are around the 100% (A terrible indicator value)')"
   ]
  },
  {
   "cell_type": "markdown",
   "metadata": {
    "scrolled": true
   },
   "source": [
    "---------"
   ]
  },
  {
   "cell_type": "markdown",
   "metadata": {},
   "source": [
    "#### 9.2\n",
    "\n",
    "What do you think are the causes behind the results in Exercise 9.1?"
   ]
  },
  {
   "cell_type": "markdown",
   "metadata": {},
   "source": [
    "**Answer.**"
   ]
  },
  {
   "cell_type": "markdown",
   "metadata": {},
   "source": [
    "I think that in rich countries exist a better knowledge about the climate change and everything about it. For that reasons we see a best beahvior on this indicator. Also I can say that some Low income and lower middle income countries base their economies in the extraction of fossils fuels, increasing the pollutant gases."
   ]
  },
  {
   "cell_type": "markdown",
   "metadata": {},
   "source": [
    "---------"
   ]
  },
  {
   "cell_type": "markdown",
   "metadata": {},
   "source": [
    "### Exercise 10:\n",
    "\n",
    "Finally, our client is interested in investigating the impacts and relationships between **high levels of exposure to particle matter** and **the health of the population**. Coming up with additional data for this task may be infeasible for the client, thus they have asked us to search for relevant health data in the ```WDIdata.csv``` file and work with that. "
   ]
  },
  {
   "cell_type": "markdown",
   "metadata": {},
   "source": [
    "#### 10.1\n",
    "\n",
    "Which indicators present in the file  ```WDISeries.csv``` file might be useful to solve the client's question? Explain.\n",
    "\n",
    "**Note:** Naming one or two indicators is more than enough for this question. "
   ]
  },
  {
   "cell_type": "markdown",
   "metadata": {},
   "source": [
    "**Answer.**"
   ]
  },
  {
   "cell_type": "markdown",
   "metadata": {},
   "source": [
    "There exists an indicator called **'Mortality rate attributed to household and ambient air pollution, age-standardized (per 100,000 population)'**, its code is: **SH.STA.AIRP.P5** \n",
    "\n",
    "With this indicator we can relate the deaths and the air pollution."
   ]
  },
  {
   "cell_type": "markdown",
   "metadata": {},
   "source": [
    "---------"
   ]
  },
  {
   "cell_type": "markdown",
   "metadata": {},
   "source": [
    "#### 10.2\n",
    "\n",
    "Use the indicators provided in Exercise 10.1 to give valuable information to the client. "
   ]
  },
  {
   "cell_type": "markdown",
   "metadata": {},
   "source": [
    "**Answer.**"
   ]
  },
  {
   "cell_type": "code",
   "execution_count": 20,
   "metadata": {},
   "outputs": [
    {
     "data": {
      "text/plain": [
       "array(['2016'], dtype=object)"
      ]
     },
     "execution_count": 20,
     "metadata": {},
     "output_type": "execute_result"
    }
   ],
   "source": [
    "df2=WDI_ids[WDI_ids['Series Code'].isin(['SH.STA.AIRP.P5','EN.ATM.PM25.MC.M3'])]\n",
    "df2=df2.merge(WDI_data,left_on='Series Code',right_on='Indicator Code',how='left')\n",
    "\n",
    "df2.drop(columns=['Indicator Name_y'],inplace=True)\n",
    "df2.rename(columns={'Indicator Name_x':'Indicator Name'},inplace=True)\n",
    "\n",
    "df2=df2.melt(id_vars=(df2.iloc[:, 0:26]),value_vars=(df2.iloc[:, 26:]),var_name='Year',value_name=('Indicator Value'))\n",
    "\n",
    "df2=df2[df2['Year']!='Unnamed: 64']\n",
    "df2.dropna(subset=['Indicator Value'],inplace=True)\n",
    "\n",
    "df2=df2.merge(WDI_country[['Country Code','Region','Income Group']],on='Country Code',how='left')\n",
    "\n",
    "\n",
    "\n",
    "df2.replace('PM2.5 air pollution, mean annual exposure (micrograms per cubic meter)','PM2.5',inplace=True)\n",
    "df2.replace('Mortality rate attributed to household and ambient air pollution, age-standardized (per 100,000 population)','MORT',inplace=True)\n",
    "df2[df2['Indicator Name']=='MORT']['Year'].unique()"
   ]
  },
  {
   "cell_type": "code",
   "execution_count": 21,
   "metadata": {},
   "outputs": [
    {
     "name": "stdout",
     "output_type": "stream",
     "text": [
      "There is only one year with information of Mortality, we can say that in 2016 around 95 people in 100K people died because the particles in air\n"
     ]
    },
    {
     "data": {
      "text/html": [
       "<div>\n",
       "<style scoped>\n",
       "    .dataframe tbody tr th:only-of-type {\n",
       "        vertical-align: middle;\n",
       "    }\n",
       "\n",
       "    .dataframe tbody tr th {\n",
       "        vertical-align: top;\n",
       "    }\n",
       "\n",
       "    .dataframe thead th {\n",
       "        text-align: right;\n",
       "    }\n",
       "</style>\n",
       "<table border=\"1\" class=\"dataframe\">\n",
       "  <thead>\n",
       "    <tr style=\"text-align: right;\">\n",
       "      <th></th>\n",
       "      <th>Year</th>\n",
       "      <th>Indicator Name</th>\n",
       "      <th>Indicator Value</th>\n",
       "    </tr>\n",
       "  </thead>\n",
       "  <tbody>\n",
       "    <tr>\n",
       "      <th>0</th>\n",
       "      <td>1990</td>\n",
       "      <td>PM2.5</td>\n",
       "      <td>31.191227</td>\n",
       "    </tr>\n",
       "    <tr>\n",
       "      <th>1</th>\n",
       "      <td>1995</td>\n",
       "      <td>PM2.5</td>\n",
       "      <td>30.880535</td>\n",
       "    </tr>\n",
       "    <tr>\n",
       "      <th>2</th>\n",
       "      <td>2000</td>\n",
       "      <td>PM2.5</td>\n",
       "      <td>30.930976</td>\n",
       "    </tr>\n",
       "    <tr>\n",
       "      <th>3</th>\n",
       "      <td>2005</td>\n",
       "      <td>PM2.5</td>\n",
       "      <td>30.651390</td>\n",
       "    </tr>\n",
       "    <tr>\n",
       "      <th>4</th>\n",
       "      <td>2010</td>\n",
       "      <td>PM2.5</td>\n",
       "      <td>30.872419</td>\n",
       "    </tr>\n",
       "    <tr>\n",
       "      <th>5</th>\n",
       "      <td>2011</td>\n",
       "      <td>PM2.5</td>\n",
       "      <td>31.131758</td>\n",
       "    </tr>\n",
       "    <tr>\n",
       "      <th>6</th>\n",
       "      <td>2012</td>\n",
       "      <td>PM2.5</td>\n",
       "      <td>30.340594</td>\n",
       "    </tr>\n",
       "    <tr>\n",
       "      <th>7</th>\n",
       "      <td>2013</td>\n",
       "      <td>PM2.5</td>\n",
       "      <td>29.790453</td>\n",
       "    </tr>\n",
       "    <tr>\n",
       "      <th>8</th>\n",
       "      <td>2014</td>\n",
       "      <td>PM2.5</td>\n",
       "      <td>28.683781</td>\n",
       "    </tr>\n",
       "    <tr>\n",
       "      <th>9</th>\n",
       "      <td>2015</td>\n",
       "      <td>PM2.5</td>\n",
       "      <td>30.579904</td>\n",
       "    </tr>\n",
       "    <tr>\n",
       "      <th>10</th>\n",
       "      <td>2016</td>\n",
       "      <td>MORT</td>\n",
       "      <td>95.137688</td>\n",
       "    </tr>\n",
       "    <tr>\n",
       "      <th>11</th>\n",
       "      <td>2016</td>\n",
       "      <td>PM2.5</td>\n",
       "      <td>29.161746</td>\n",
       "    </tr>\n",
       "    <tr>\n",
       "      <th>12</th>\n",
       "      <td>2017</td>\n",
       "      <td>PM2.5</td>\n",
       "      <td>29.292363</td>\n",
       "    </tr>\n",
       "  </tbody>\n",
       "</table>\n",
       "</div>"
      ],
      "text/plain": [
       "    Year Indicator Name  Indicator Value\n",
       "0   1990          PM2.5        31.191227\n",
       "1   1995          PM2.5        30.880535\n",
       "2   2000          PM2.5        30.930976\n",
       "3   2005          PM2.5        30.651390\n",
       "4   2010          PM2.5        30.872419\n",
       "5   2011          PM2.5        31.131758\n",
       "6   2012          PM2.5        30.340594\n",
       "7   2013          PM2.5        29.790453\n",
       "8   2014          PM2.5        28.683781\n",
       "9   2015          PM2.5        30.579904\n",
       "10  2016           MORT        95.137688\n",
       "11  2016          PM2.5        29.161746\n",
       "12  2017          PM2.5        29.292363"
      ]
     },
     "execution_count": 21,
     "metadata": {},
     "output_type": "execute_result"
    }
   ],
   "source": [
    "print('There is only one year with information of Mortality, we can say that in 2016 around 95 people in 100K people died because the particles in air')\n",
    "df2.groupby(['Year','Indicator Name'])['Indicator Value'].mean().reset_index()\n"
   ]
  },
  {
   "cell_type": "markdown",
   "metadata": {},
   "source": [
    "---------"
   ]
  },
  {
   "cell_type": "markdown",
   "metadata": {},
   "source": [
    "#### 10.3\n",
    "\n",
    "Extend the analysis above to find some countries of interest. These are defined as\n",
    "\n",
    "* The countries that have a high mortality rate due to household and ambient air pollution, but with low PM2.5 exposure\n",
    "* The countries that have a low mortality rate due to household and ambient air pollution, but with high PM2.5 exposure"
   ]
  },
  {
   "cell_type": "markdown",
   "metadata": {},
   "source": [
    "**Answer.**"
   ]
  },
  {
   "cell_type": "code",
   "execution_count": 22,
   "metadata": {},
   "outputs": [],
   "source": [
    "#I define the mean of pm2.5, i will say that if a value is bigger than mean its PM2.5 is High, and if lower is Low\n",
    "avg_pm=df2[df2['Indicator Name']=='PM2.5']['Indicator Value'].mean()\n",
    "\n",
    "inter=df2[df2['Indicator Name']=='PM2.5'].groupby(['Year','Country Name'])['Indicator Value'].mean().reset_index()\n",
    "inter['horl_pm2.4']=inter['Indicator Value'].apply(lambda x: 'HIGH' if x>avg_pm else 'LOW')\n",
    "inter['cy']=inter['Year'].astype(str)+inter['Country Name']\n",
    "inter.drop(columns=['Year','Country Name','Indicator Value'],inplace=True)\n",
    "\n",
    "inter2=df2[df2['Indicator Name']=='MORT'].groupby(['Year','Country Name'])['Indicator Value'].mean().reset_index()\n",
    "inter2['horl_mort']=inter2['Indicator Value'].apply(lambda x: 'HIGH' if x>avg_pm else 'LOW')\n",
    "inter2['cy']=inter2['Year'].astype(str)+inter2['Country Name']\n",
    "inter2.drop(columns=['Year','Country Name','Indicator Value'],inplace=True)\n",
    "\n",
    "df2['cy']=df2['Year'].astype(str)+df2['Country Name']\n",
    "\n",
    "df2=df2.merge(inter,on='cy',how='left')\n",
    "df2=df2.merge(inter2,on='cy',how='left')\n",
    "\n",
    "df2.drop(columns=['cy'],inplace=True)\n",
    "df2=df2[df2['Year'].astype(int)==2016]\n"
   ]
  },
  {
   "cell_type": "code",
   "execution_count": 23,
   "metadata": {},
   "outputs": [
    {
     "name": "stdout",
     "output_type": "stream",
     "text": [
      "      Country Name horl_pm2.4 horl_mort\n",
      "1          Albania        LOW      HIGH\n",
      "12      Azerbaijan        LOW      HIGH\n",
      "16        Barbados        LOW      HIGH\n",
      "17         Belarus        LOW      HIGH\n",
      "19          Belize        LOW      HIGH\n",
      "..             ...        ...       ...\n",
      "231        Vanuatu        LOW      HIGH\n",
      "232  Venezuela, RB        LOW      HIGH\n",
      "233        Vietnam        LOW      HIGH\n",
      "238         Zambia        LOW      HIGH\n",
      "239       Zimbabwe        LOW      HIGH\n",
      "\n",
      "[92 rows x 3 columns]\n",
      "Empty DataFrame\n",
      "Columns: [Country Name, horl_pm2.4, horl_mort]\n",
      "Index: []\n",
      "--------------------------------------------------\n",
      "We found some countries that have low pollution but high mortality, but we didn´t found countries with high pollution and low mortality\n"
     ]
    }
   ],
   "source": [
    "df3=df2.groupby('Country Name')[['horl_pm2.4','horl_mort']].max().reset_index()\n",
    "\n",
    "print(df3[(df3['horl_pm2.4']=='LOW') & (df3['horl_mort']=='HIGH')])\n",
    "print(df3[(df3['horl_pm2.4']=='HIGH') & (df3['horl_mort']=='LOW')])\n",
    "print('--------------------------------------------------')\n",
    "print('We found some countries that have low pollution but high mortality, but we didn´t found countries with high pollution and low mortality')"
   ]
  },
  {
   "cell_type": "markdown",
   "metadata": {},
   "source": [
    "---------"
   ]
  },
  {
   "cell_type": "markdown",
   "metadata": {},
   "source": [
    "#### 10.4\n",
    "\n",
    "Finally, we want to look at the mortality data by income. We expect higher income countries to have lower pollution-related mortality. Find out if this assumption holds. Calculate summary statistics and histograms for each income category and note any trends."
   ]
  },
  {
   "cell_type": "markdown",
   "metadata": {},
   "source": [
    "**Answer.**"
   ]
  },
  {
   "cell_type": "code",
   "execution_count": 24,
   "metadata": {},
   "outputs": [
    {
     "data": {
      "text/html": [
       "<div>\n",
       "<style scoped>\n",
       "    .dataframe tbody tr th:only-of-type {\n",
       "        vertical-align: middle;\n",
       "    }\n",
       "\n",
       "    .dataframe tbody tr th {\n",
       "        vertical-align: top;\n",
       "    }\n",
       "\n",
       "    .dataframe thead tr th {\n",
       "        text-align: left;\n",
       "    }\n",
       "\n",
       "    .dataframe thead tr:last-of-type th {\n",
       "        text-align: right;\n",
       "    }\n",
       "</style>\n",
       "<table border=\"1\" class=\"dataframe\">\n",
       "  <thead>\n",
       "    <tr>\n",
       "      <th></th>\n",
       "      <th>mean</th>\n",
       "      <th>median</th>\n",
       "      <th>max</th>\n",
       "      <th>min</th>\n",
       "    </tr>\n",
       "    <tr>\n",
       "      <th></th>\n",
       "      <th>Indicator Value</th>\n",
       "      <th>Indicator Value</th>\n",
       "      <th>Indicator Value</th>\n",
       "      <th>Indicator Value</th>\n",
       "    </tr>\n",
       "    <tr>\n",
       "      <th>Income Group</th>\n",
       "      <th></th>\n",
       "      <th></th>\n",
       "      <th></th>\n",
       "      <th></th>\n",
       "    </tr>\n",
       "  </thead>\n",
       "  <tbody>\n",
       "    <tr>\n",
       "      <th>High income</th>\n",
       "      <td>21.415261</td>\n",
       "      <td>15.300000</td>\n",
       "      <td>103.8</td>\n",
       "      <td>5.893757</td>\n",
       "    </tr>\n",
       "    <tr>\n",
       "      <th>Low income</th>\n",
       "      <td>114.637805</td>\n",
       "      <td>92.881593</td>\n",
       "      <td>324.1</td>\n",
       "      <td>15.086483</td>\n",
       "    </tr>\n",
       "    <tr>\n",
       "      <th>Lower middle income</th>\n",
       "      <td>84.205072</td>\n",
       "      <td>60.126275</td>\n",
       "      <td>307.4</td>\n",
       "      <td>10.537839</td>\n",
       "    </tr>\n",
       "    <tr>\n",
       "      <th>Upper middle income</th>\n",
       "      <td>43.155936</td>\n",
       "      <td>33.176617</td>\n",
       "      <td>177.7</td>\n",
       "      <td>7.972429</td>\n",
       "    </tr>\n",
       "  </tbody>\n",
       "</table>\n",
       "</div>"
      ],
      "text/plain": [
       "                               mean          median             max  \\\n",
       "                    Indicator Value Indicator Value Indicator Value   \n",
       "Income Group                                                          \n",
       "High income               21.415261       15.300000           103.8   \n",
       "Low income               114.637805       92.881593           324.1   \n",
       "Lower middle income       84.205072       60.126275           307.4   \n",
       "Upper middle income       43.155936       33.176617           177.7   \n",
       "\n",
       "                                min  \n",
       "                    Indicator Value  \n",
       "Income Group                         \n",
       "High income                5.893757  \n",
       "Low income                15.086483  \n",
       "Lower middle income       10.537839  \n",
       "Upper middle income        7.972429  "
      ]
     },
     "execution_count": 24,
     "metadata": {},
     "output_type": "execute_result"
    }
   ],
   "source": [
    "pd.pivot_table(df2,index='Income Group',values='Indicator Value',aggfunc=['mean','median','max','min'])"
   ]
  },
  {
   "cell_type": "code",
   "execution_count": 25,
   "metadata": {},
   "outputs": [
    {
     "data": {
      "image/png": "[encoded data removed]",
      "text/plain": [
       "<Figure size 864x216 with 4 Axes>"
      ]
     },
     "metadata": {
      "needs_background": "light"
     },
     "output_type": "display_data"
    }
   ],
   "source": [
    "grph_income= sns.FacetGrid(df2[df2['Indicator Name']=='MORT'],col='Income Group')\n",
    "grph_income=grph_income.map(plt.hist,'Indicator Value')\n"
   ]
  },
  {
   "cell_type": "markdown",
   "metadata": {},
   "source": [
    "---------"
   ]
  },
  {
   "cell_type": "markdown",
   "metadata": {},
   "source": [
    "#### 10.5\n",
    "\n",
    "At the start, we asked some questions. Based on your analysis, provide a short answer to each of these:\n",
    "\n",
    "1. Are we making any progress in reducing the amount of emitted pollutants across the globe?\n",
    "    **No, inspite of some countries are doing efforts to reduce their pollution, another countries have been increasing a lot,   that cause that in global, we are not reducing the amount of emitted pollutants**\n",
    "2. Which are the critical regions where we should start environmental campaigns?\n",
    "   **Its important to start with 'East Asia and Pacific' and 'Sub-Saharan Africa'**\n",
    "3. Are we making any progress in the prevention of deaths related to air pollution?\n",
    "    **We only have information for one year, its not possible to see a progress now**\n",
    "4. Which demographic characteristics seem to correlate with the number of health-related issues derived from air pollution? \n",
    "    **The number of health-realated issues derived from air pollution is correlate with the income of country, if we are in a high income country probably we have less probability of die caused by air pollution**\n",
    "    "
   ]
  },
  {
   "cell_type": "markdown",
   "metadata": {},
   "source": [
    "**Answer.**"
   ]
  },
  {
   "cell_type": "markdown",
   "metadata": {},
   "source": [
    "---------"
   ]
  }
 ],
 "metadata": {
  "kernelspec": {
   "display_name": "Python 3",
   "language": "python",
   "name": "python3"
  },
  "language_info": {
   "codemirror_mode": {
    "name": "ipython",
    "version": 3
   },
   "file_extension": ".py",
   "mimetype": "text/x-python",
   "name": "python",
   "nbconvert_exporter": "python",
   "pygments_lexer": "ipython3",
   "version": "3.7.7"
  }
 },
 "nbformat": 4,
 "nbformat_minor": 2
}
